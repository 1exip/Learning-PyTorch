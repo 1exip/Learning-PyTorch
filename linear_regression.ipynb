{
  "nbformat": 4,
  "nbformat_minor": 0,
  "metadata": {
    "colab": {
      "name": "linear-regression.ipynb",
      "provenance": [],
      "collapsed_sections": [],
      "authorship_tag": "ABX9TyP4j68nGV8qrQTbvWMqQ3Kx",
      "include_colab_link": true
    },
    "kernelspec": {
      "name": "python3",
      "display_name": "Python 3"
    }
  },
  "cells": [
    {
      "cell_type": "markdown",
      "metadata": {
        "id": "view-in-github",
        "colab_type": "text"
      },
      "source": [
        "<a href=\"https://colab.research.google.com/github/1exip/Learning-PyTorch/blob/master/linear_regression.ipynb\" target=\"_parent\"><img src=\"https://colab.research.google.com/assets/colab-badge.svg\" alt=\"Open In Colab\"/></a>"
      ]
    },
    {
      "cell_type": "markdown",
      "metadata": {
        "id": "WZEzGWA8S7Mt",
        "colab_type": "text"
      },
      "source": [
        "![alt text](https://i.imgur.com/6Ujttb4.png)"
      ]
    },
    {
      "cell_type": "code",
      "metadata": {
        "id": "yMEwBaJUSyVQ",
        "colab_type": "code",
        "colab": {}
      },
      "source": [
        "#yield_apple = w11 * temp + w12 * rainfall + w13 * humidity\n",
        "#yield_orange = w21 * temp + w22 * rainfall + w13 * humidity"
      ],
      "execution_count": 0,
      "outputs": []
    },
    {
      "cell_type": "code",
      "metadata": {
        "id": "1YINAH4_TYgx",
        "colab_type": "code",
        "colab": {}
      },
      "source": [
        "import numpy as np\n",
        "import torch"
      ],
      "execution_count": 0,
      "outputs": []
    },
    {
      "cell_type": "code",
      "metadata": {
        "id": "C490BPaQTd3o",
        "colab_type": "code",
        "colab": {}
      },
      "source": [
        "inputs = np.array([[73,67,43],\n",
        "                   [91,88,64],\n",
        "                   [87,88,64],\n",
        "                   [102,43,37],\n",
        "                   [69,96,70]],dtype='float32')"
      ],
      "execution_count": 0,
      "outputs": []
    },
    {
      "cell_type": "code",
      "metadata": {
        "id": "-_UjdTtpTvz2",
        "colab_type": "code",
        "colab": {}
      },
      "source": [
        "targets = np.array([[56,70],\n",
        "                    [81,101],\n",
        "                    [119,133],\n",
        "                    [22,37],\n",
        "                    [103,119]],dtype='float32')"
      ],
      "execution_count": 0,
      "outputs": []
    },
    {
      "cell_type": "code",
      "metadata": {
        "id": "JdWW3uWhUNG3",
        "colab_type": "code",
        "outputId": "9e7acb62-17fe-49b4-e92d-cce14f8b38a4",
        "colab": {
          "base_uri": "https://localhost:8080/",
          "height": 68
        }
      },
      "source": [
        "w = torch.randn(2,3,requires_grad=True)\n",
        "b = torch.randn(2,requires_grad=True)\n",
        "print(w)\n",
        "print(b)"
      ],
      "execution_count": 0,
      "outputs": [
        {
          "output_type": "stream",
          "text": [
            "tensor([[0.7076, 1.5338, 0.2720],\n",
            "        [0.9974, 0.6944, 1.0063]], requires_grad=True)\n",
            "tensor([-0.8115, -0.8795], requires_grad=True)\n"
          ],
          "name": "stdout"
        }
      ]
    },
    {
      "cell_type": "code",
      "metadata": {
        "id": "FaHq43XKUc-s",
        "colab_type": "code",
        "colab": {}
      },
      "source": [
        "def model(x):\n",
        "  return x @ w.t() + b"
      ],
      "execution_count": 0,
      "outputs": []
    },
    {
      "cell_type": "code",
      "metadata": {
        "id": "If3TIFxkUkMo",
        "colab_type": "code",
        "outputId": "4deec271-748c-4699-c421-c3c381a3aebf",
        "colab": {
          "base_uri": "https://localhost:8080/",
          "height": 187
        }
      },
      "source": [
        "preds = model(inputs)\n",
        "print(preds)\n",
        "print(targets)"
      ],
      "execution_count": 0,
      "outputs": [
        {
          "output_type": "stream",
          "text": [
            "tensor([[165.3068, 161.7258],\n",
            "        [215.9668, 215.3933],\n",
            "        [213.1365, 211.4038],\n",
            "        [147.3822, 167.9456],\n",
            "        [214.3031, 205.0441]], grad_fn=<AddBackward0>)\n",
            "tensor([[ 56.,  70.],\n",
            "        [ 81., 101.],\n",
            "        [119., 133.],\n",
            "        [ 22.,  37.],\n",
            "        [103., 119.]])\n"
          ],
          "name": "stdout"
        }
      ]
    },
    {
      "cell_type": "code",
      "metadata": {
        "id": "zT35yF-pUn8y",
        "colab_type": "code",
        "colab": {}
      },
      "source": [
        "def mse(predicted,targets):\n",
        "  diff = targets - predicted\n",
        "  return torch.sum((diff * diff) / diff.numel())"
      ],
      "execution_count": 0,
      "outputs": []
    },
    {
      "cell_type": "code",
      "metadata": {
        "id": "4KryAWzcVNlx",
        "colab_type": "code",
        "outputId": "d2e2d131-d6bf-45e8-ce52-30009ff7e8d2",
        "colab": {
          "base_uri": "https://localhost:8080/",
          "height": 34
        }
      },
      "source": [
        "loss = mse(preds, targets)\n",
        "print(loss)"
      ],
      "execution_count": 0,
      "outputs": [
        {
          "output_type": "stream",
          "text": [
            "tensor(11933.1689, grad_fn=<SumBackward0>)\n"
          ],
          "name": "stdout"
        }
      ]
    },
    {
      "cell_type": "code",
      "metadata": {
        "id": "Wmf6WYm5VQBJ",
        "colab_type": "code",
        "colab": {}
      },
      "source": [
        "loss.backward()"
      ],
      "execution_count": 0,
      "outputs": []
    },
    {
      "cell_type": "code",
      "metadata": {
        "id": "DmpCkMaRVmvd",
        "colab_type": "code",
        "outputId": "83e9edd8-22da-4d85-b430-3d98c624d4a2",
        "colab": {
          "base_uri": "https://localhost:8080/",
          "height": 85
        }
      },
      "source": [
        "print(w)\n",
        "print(w.grad)"
      ],
      "execution_count": 0,
      "outputs": [
        {
          "output_type": "stream",
          "text": [
            "tensor([[0.7076, 1.5338, 0.2720],\n",
            "        [0.9974, 0.6944, 1.0063]], requires_grad=True)\n",
            "tensor([[9784.0273, 8712.2334, 6358.6309],\n",
            "        [8644.0811, 7400.5352, 5430.2607]])\n"
          ],
          "name": "stdout"
        }
      ]
    },
    {
      "cell_type": "code",
      "metadata": {
        "id": "pz6zcyVkV5yY",
        "colab_type": "code",
        "colab": {}
      },
      "source": [
        "lr = 0.0001"
      ],
      "execution_count": 0,
      "outputs": []
    },
    {
      "cell_type": "code",
      "metadata": {
        "id": "JLHtN_J8WJ7J",
        "colab_type": "code",
        "outputId": "11543eea-49ef-4b47-af87-cc0720bfbc9b",
        "colab": {
          "base_uri": "https://localhost:8080/",
          "height": 34
        }
      },
      "source": [
        "preds = model(inputs)\n",
        "loss = mse(preds, targets)\n",
        "print(loss)"
      ],
      "execution_count": 0,
      "outputs": [
        {
          "output_type": "stream",
          "text": [
            "tensor(11933.1689, grad_fn=<SumBackward0>)\n"
          ],
          "name": "stdout"
        }
      ]
    },
    {
      "cell_type": "code",
      "metadata": {
        "id": "CO82V383WMPI",
        "colab_type": "code",
        "colab": {}
      },
      "source": [
        "for epoch in range(100):\n",
        "  preds = model(inputs)\n",
        "  loss = mse(preds,targets)\n",
        "  loss.backward()\n",
        "  with torch.no_grad():\n",
        "    w -= w.grad * lr\n",
        "    b -= b.grad * lr\n",
        "    w.grad.zero_()\n",
        "    b.grad.zero_()"
      ],
      "execution_count": 0,
      "outputs": []
    },
    {
      "cell_type": "code",
      "metadata": {
        "id": "oPEOsrDvXBmn",
        "colab_type": "code",
        "outputId": "53a27e9c-f7fd-4041-f7ac-7e84f4558d05",
        "colab": {
          "base_uri": "https://localhost:8080/",
          "height": 34
        }
      },
      "source": [
        "print(loss)"
      ],
      "execution_count": 0,
      "outputs": [
        {
          "output_type": "stream",
          "text": [
            "tensor(169.9715, grad_fn=<SumBackward0>)\n"
          ],
          "name": "stdout"
        }
      ]
    },
    {
      "cell_type": "code",
      "metadata": {
        "id": "RAPftDxkXDa0",
        "colab_type": "code",
        "colab": {}
      },
      "source": [
        "import matplotlib.pyplot as plt"
      ],
      "execution_count": 0,
      "outputs": []
    },
    {
      "cell_type": "code",
      "metadata": {
        "id": "xRF_TOmCZ20t",
        "colab_type": "code",
        "colab": {}
      },
      "source": [
        "x = inputs\n",
        "X = np.array(x[:,0])\n",
        "Y = x @ w.t() + b\n",
        "Y = Y.detach().numpy()\n",
        "x = np.array(inputs)"
      ],
      "execution_count": 0,
      "outputs": []
    },
    {
      "cell_type": "code",
      "metadata": {
        "id": "xu6jj2kZYV7V",
        "colab_type": "code",
        "outputId": "9bc40f35-a69c-40af-b1b5-efa49145e4d9",
        "colab": {
          "base_uri": "https://localhost:8080/",
          "height": 279
        }
      },
      "source": [
        "plt.plot(X,Y[:,0],'b')\n",
        "plt.plot(X,Y[:,1],'r')\n",
        "plt.xlabel('Tempature')\n",
        "plt.ylabel('Crop Yield')\n",
        "plt.show()"
      ],
      "execution_count": 0,
      "outputs": [
        {
          "output_type": "display_data",
          "data": {
            "image/png": "[encoded data removed]",
            "text/plain": [
              "<Figure size 432x288 with 1 Axes>"
            ]
          },
          "metadata": {
            "tags": [],
            "needs_background": "light"
          }
        }
      ]
    },
    {
      "cell_type": "code",
      "metadata": {
        "id": "PhxDgxg4bGkh",
        "colab_type": "code",
        "outputId": "88ca03d0-0c7d-4728-ce13-de3e0914b48c",
        "colab": {
          "base_uri": "https://localhost:8080/",
          "height": 51
        }
      },
      "source": [
        "print(X,'\\n',Y[:,0])\n"
      ],
      "execution_count": 0,
      "outputs": [
        {
          "output_type": "stream",
          "text": [
            "[ 73.  91.  87. 102.  69.] \n",
            " [ 66.650635  90.84476   92.34325   23.339954 110.54874 ]\n"
          ],
          "name": "stdout"
        }
      ]
    },
    {
      "cell_type": "code",
      "metadata": {
        "id": "CKSJ97K_bG_A",
        "colab_type": "code",
        "colab": {}
      },
      "source": [
        "def linearregression(x,y,lr,epochs,wdim,bdim):\n",
        "  dim1,dim2 = wdim\n",
        "  w = torch.randn(dim1,dim2, requires_grad=True)\n",
        "  b = torch.randn(bdim, requires_grad=True)\n",
        "  pred = x @ w.t() + b\n",
        "  loss = mse(pred,y)\n",
        "  loss.backward()\n",
        "  print(loss)\n",
        "  for i in range(epochs):\n",
        "    pred = x @ w.t() + b\n",
        "    loss = mse(pred,y)\n",
        "    loss.backward()\n",
        "    with torch.no_grad():\n",
        "      w -= w.grad*lr\n",
        "      b -= b.grad*lr\n",
        "      w.grad.zero_()\n",
        "      b.grad.zero_()\n",
        "    if i%10==0:\n",
        "      print(\"Epoch:\",i,\"Loss:\",loss)\n"
      ],
      "execution_count": 0,
      "outputs": []
    },
    {
      "cell_type": "code",
      "metadata": {
        "id": "lDF8nYJ7bKqH",
        "colab_type": "code",
        "outputId": "eaddc661-a885-48e3-9671-e43396a3b060",
        "colab": {
          "base_uri": "https://localhost:8080/",
          "height": 153
        }
      },
      "source": [
        "linearregression(inputs,targets,0.0001,70,(2,3),2)"
      ],
      "execution_count": 0,
      "outputs": [
        {
          "output_type": "stream",
          "text": [
            "tensor(20960.7305, grad_fn=<SumBackward0>)\n",
            "Epoch: 0 Loss: tensor(20960.7305, grad_fn=<SumBackward0>)\n",
            "Epoch: 10 Loss: tensor(1419.4956, grad_fn=<SumBackward0>)\n",
            "Epoch: 20 Loss: tensor(650.2444, grad_fn=<SumBackward0>)\n",
            "Epoch: 30 Loss: tensor(360.5061, grad_fn=<SumBackward0>)\n",
            "Epoch: 40 Loss: tensor(248.4492, grad_fn=<SumBackward0>)\n",
            "Epoch: 50 Loss: tensor(205.0495, grad_fn=<SumBackward0>)\n",
            "Epoch: 60 Loss: tensor(188.1800, grad_fn=<SumBackward0>)\n"
          ],
          "name": "stdout"
        }
      ]
    },
    {
      "cell_type": "code",
      "metadata": {
        "id": "MBlNDiomcwHf",
        "colab_type": "code",
        "colab": {}
      },
      "source": [
        "import torch.nn as nn"
      ],
      "execution_count": 0,
      "outputs": []
    },
    {
      "cell_type": "code",
      "metadata": {
        "id": "LdVVFPe-h6Hm",
        "colab_type": "code",
        "colab": {}
      },
      "source": [
        "inputs = np.array([[73, 67, 43], [91, 88, 64], [87, 134, 58], \n",
        "                   [102, 43, 37], [69, 96, 70], [73, 67, 43], \n",
        "                   [91, 88, 64], [87, 134, 58], [102, 43, 37], \n",
        "                   [69, 96, 70], [73, 67, 43], [91, 88, 64], \n",
        "                   [87, 134, 58], [102, 43, 37], [69, 96, 70]], \n",
        "                  dtype='float32')\n",
        "targets = np.array([[56, 70], [81, 101], [119, 133], \n",
        "                    [22, 37], [103, 119], [56, 70], \n",
        "                    [81, 101], [119, 133], [22, 37], \n",
        "                    [103, 119], [56, 70], [81, 101], \n",
        "                    [119, 133], [22, 37], [103, 119]], \n",
        "                   dtype='float32')"
      ],
      "execution_count": 0,
      "outputs": []
    },
    {
      "cell_type": "code",
      "metadata": {
        "id": "RCSlb_t8i-PD",
        "colab_type": "code",
        "colab": {}
      },
      "source": [
        "inputs = torch.from_numpy(inputs)\n",
        "targets = torch.from_numpy(targets)"
      ],
      "execution_count": 0,
      "outputs": []
    },
    {
      "cell_type": "code",
      "metadata": {
        "id": "ms6HjRCKnsNu",
        "colab_type": "code",
        "colab": {}
      },
      "source": [
        "from torch.utils.data import TensorDataset"
      ],
      "execution_count": 0,
      "outputs": []
    },
    {
      "cell_type": "code",
      "metadata": {
        "id": "KDx29M9Vnxzd",
        "colab_type": "code",
        "colab": {}
      },
      "source": [
        "train = TensorDataset(inputs,targets)"
      ],
      "execution_count": 0,
      "outputs": []
    },
    {
      "cell_type": "code",
      "metadata": {
        "id": "3ZH5MBPXn1Jt",
        "colab_type": "code",
        "colab": {}
      },
      "source": [
        "from torch.utils.data import DataLoader"
      ],
      "execution_count": 0,
      "outputs": []
    },
    {
      "cell_type": "code",
      "metadata": {
        "id": "Q4SuWQdCn52Z",
        "colab_type": "code",
        "colab": {}
      },
      "source": [
        "train_dl = DataLoader(train, batch_size=5, shuffle=True)"
      ],
      "execution_count": 0,
      "outputs": []
    },
    {
      "cell_type": "code",
      "metadata": {
        "id": "4h36yQcwoEH6",
        "colab_type": "code",
        "outputId": "dfdff56b-15dc-441c-80a6-19d2954ed8b4",
        "colab": {
          "base_uri": "https://localhost:8080/",
          "height": 102
        }
      },
      "source": [
        "model = nn.Linear(3,2)\n",
        "print(model.weight)\n",
        "print(model.bias)"
      ],
      "execution_count": 0,
      "outputs": [
        {
          "output_type": "stream",
          "text": [
            "Parameter containing:\n",
            "tensor([[-0.3579, -0.3641,  0.0802],\n",
            "        [-0.5444, -0.4676,  0.3221]], requires_grad=True)\n",
            "Parameter containing:\n",
            "tensor([ 0.0165, -0.3010], requires_grad=True)\n"
          ],
          "name": "stdout"
        }
      ]
    },
    {
      "cell_type": "code",
      "metadata": {
        "id": "cFXND-WKoS-Y",
        "colab_type": "code",
        "outputId": "cd5635f8-12cd-4ed1-bb07-d29174f9bf59",
        "colab": {
          "base_uri": "https://localhost:8080/",
          "height": 102
        }
      },
      "source": [
        "list(model.parameters())"
      ],
      "execution_count": 0,
      "outputs": [
        {
          "output_type": "execute_result",
          "data": {
            "text/plain": [
              "[Parameter containing:\n",
              " tensor([[-0.3579, -0.3641,  0.0802],\n",
              "         [-0.5444, -0.4676,  0.3221]], requires_grad=True),\n",
              " Parameter containing:\n",
              " tensor([ 0.0165, -0.3010], requires_grad=True)]"
            ]
          },
          "metadata": {
            "tags": []
          },
          "execution_count": 328
        }
      ]
    },
    {
      "cell_type": "code",
      "metadata": {
        "id": "A3E1hWZDoXoL",
        "colab_type": "code",
        "outputId": "b1de40c9-11bb-4b5c-ea54-c8653bd1e162",
        "colab": {
          "base_uri": "https://localhost:8080/",
          "height": 272
        }
      },
      "source": [
        "preds = model(inputs)\n",
        "preds"
      ],
      "execution_count": 0,
      "outputs": [
        {
          "output_type": "execute_result",
          "data": {
            "text/plain": [
              "tensor([[-47.0532, -57.5199],\n",
              "        [-59.4560, -70.3746],\n",
              "        [-75.2534, -91.6386],\n",
              "        [-49.1758, -64.0169],\n",
              "        [-54.0134, -60.2068],\n",
              "        [-47.0532, -57.5199],\n",
              "        [-59.4560, -70.3746],\n",
              "        [-75.2534, -91.6386],\n",
              "        [-49.1758, -64.0169],\n",
              "        [-54.0134, -60.2068],\n",
              "        [-47.0532, -57.5199],\n",
              "        [-59.4560, -70.3746],\n",
              "        [-75.2534, -91.6386],\n",
              "        [-49.1758, -64.0169],\n",
              "        [-54.0134, -60.2068]], grad_fn=<AddmmBackward>)"
            ]
          },
          "metadata": {
            "tags": []
          },
          "execution_count": 329
        }
      ]
    },
    {
      "cell_type": "code",
      "metadata": {
        "id": "8u21SBFeol3U",
        "colab_type": "code",
        "colab": {}
      },
      "source": [
        "import torch.nn.functional as F"
      ],
      "execution_count": 0,
      "outputs": []
    },
    {
      "cell_type": "code",
      "metadata": {
        "id": "f4teTqcxooiB",
        "colab_type": "code",
        "colab": {}
      },
      "source": [
        "loss_fn = F.mse_loss"
      ],
      "execution_count": 0,
      "outputs": []
    },
    {
      "cell_type": "code",
      "metadata": {
        "id": "AL2hdJdKorxp",
        "colab_type": "code",
        "outputId": "003bf590-ddef-4e0c-a71f-17aab0e8ded7",
        "colab": {
          "base_uri": "https://localhost:8080/",
          "height": 34
        }
      },
      "source": [
        "loss = loss_fn(preds,targets)\n",
        "print(loss)"
      ],
      "execution_count": 0,
      "outputs": [
        {
          "output_type": "stream",
          "text": [
            "tensor(23621.4004, grad_fn=<MseLossBackward>)\n"
          ],
          "name": "stdout"
        }
      ]
    },
    {
      "cell_type": "code",
      "metadata": {
        "id": "0aTJoJ9Uov2b",
        "colab_type": "code",
        "colab": {}
      },
      "source": [
        "opt = torch.optim.SGD(model.parameters(),lr=0.00001)"
      ],
      "execution_count": 0,
      "outputs": []
    },
    {
      "cell_type": "code",
      "metadata": {
        "id": "STOBOtqZo7im",
        "colab_type": "code",
        "colab": {}
      },
      "source": [
        "def fit(epochs,model,loss_fn,opt,train_dl):\n",
        "  for epoch in range(epochs):\n",
        "    for xb,yb in train_dl:\n",
        "      pred = model(xb)\n",
        "      loss = loss_fn(pred,yb)\n",
        "      loss.backward()\n",
        "      opt.step()\n",
        "      opt.zero_grad()\n",
        "    if epoch%10==0:\n",
        "      print('Epoch:',epoch,'Loss:',loss)     "
      ],
      "execution_count": 0,
      "outputs": []
    },
    {
      "cell_type": "code",
      "metadata": {
        "id": "-aV0WG2ypa7J",
        "colab_type": "code",
        "outputId": "9d01e725-ecb5-4df6-addd-bd89f279ba57",
        "colab": {
          "base_uri": "https://localhost:8080/",
          "height": 187
        }
      },
      "source": [
        "fit(100,model,loss_fn,opt,train_dl)"
      ],
      "execution_count": 0,
      "outputs": [
        {
          "output_type": "stream",
          "text": [
            "Epoch: 0 Loss: tensor(8821.0332, grad_fn=<MseLossBackward>)\n",
            "Epoch: 10 Loss: tensor(135.4454, grad_fn=<MseLossBackward>)\n",
            "Epoch: 20 Loss: tensor(180.2317, grad_fn=<MseLossBackward>)\n",
            "Epoch: 30 Loss: tensor(52.2210, grad_fn=<MseLossBackward>)\n",
            "Epoch: 40 Loss: tensor(49.6877, grad_fn=<MseLossBackward>)\n",
            "Epoch: 50 Loss: tensor(15.2969, grad_fn=<MseLossBackward>)\n",
            "Epoch: 60 Loss: tensor(63.4778, grad_fn=<MseLossBackward>)\n",
            "Epoch: 70 Loss: tensor(27.1521, grad_fn=<MseLossBackward>)\n",
            "Epoch: 80 Loss: tensor(30.7454, grad_fn=<MseLossBackward>)\n",
            "Epoch: 90 Loss: tensor(19.8424, grad_fn=<MseLossBackward>)\n"
          ],
          "name": "stdout"
        }
      ]
    },
    {
      "cell_type": "code",
      "metadata": {
        "id": "eJYCrukNqGuF",
        "colab_type": "code",
        "outputId": "1b1fb035-5dd7-4754-c570-8a1924f30f37",
        "colab": {
          "base_uri": "https://localhost:8080/",
          "height": 445
        }
      },
      "source": [
        "pip install jovian --upgrade "
      ],
      "execution_count": 0,
      "outputs": [
        {
          "output_type": "stream",
          "text": [
            "Collecting jovian\n",
            "\u001b[?25l  Downloading https://files.pythonhosted.org/packages/cd/50/6ab6f3777df710d3821ae391b5a3342efd818c2e42d51017944602980263/jovian-0.2.14-py2.py3-none-any.whl (83kB)\n",
            "\r\u001b[K     |████                            | 10kB 22.3MB/s eta 0:00:01\r\u001b[K     |███████▉                        | 20kB 6.3MB/s eta 0:00:01\r\u001b[K     |███████████▉                    | 30kB 8.8MB/s eta 0:00:01\r\u001b[K     |███████████████▊                | 40kB 11.0MB/s eta 0:00:01\r\u001b[K     |███████████████████▋            | 51kB 7.3MB/s eta 0:00:01\r\u001b[K     |███████████████████████▋        | 61kB 8.6MB/s eta 0:00:01\r\u001b[K     |███████████████████████████▌    | 71kB 9.7MB/s eta 0:00:01\r\u001b[K     |███████████████████████████████▍| 81kB 10.7MB/s eta 0:00:01\r\u001b[K     |████████████████████████████████| 92kB 6.4MB/s \n",
            "\u001b[?25hCollecting uuid\n",
            "  Downloading https://files.pythonhosted.org/packages/ce/63/f42f5aa951ebf2c8dac81f77a8edcc1c218640a2a35a03b9ff2d4aa64c3d/uuid-1.30.tar.gz\n",
            "Requirement already satisfied, skipping upgrade: click in /usr/local/lib/python3.6/dist-packages (from jovian) (7.1.2)\n",
            "Requirement already satisfied, skipping upgrade: pyyaml in /usr/local/lib/python3.6/dist-packages (from jovian) (3.13)\n",
            "Requirement already satisfied, skipping upgrade: requests in /usr/local/lib/python3.6/dist-packages (from jovian) (2.23.0)\n",
            "Requirement already satisfied, skipping upgrade: idna<3,>=2.5 in /usr/local/lib/python3.6/dist-packages (from requests->jovian) (2.9)\n",
            "Requirement already satisfied, skipping upgrade: chardet<4,>=3.0.2 in /usr/local/lib/python3.6/dist-packages (from requests->jovian) (3.0.4)\n",
            "Requirement already satisfied, skipping upgrade: certifi>=2017.4.17 in /usr/local/lib/python3.6/dist-packages (from requests->jovian) (2020.4.5.1)\n",
            "Requirement already satisfied, skipping upgrade: urllib3!=1.25.0,!=1.25.1,<1.26,>=1.21.1 in /usr/local/lib/python3.6/dist-packages (from requests->jovian) (1.24.3)\n",
            "Building wheels for collected packages: uuid\n",
            "  Building wheel for uuid (setup.py) ... \u001b[?25l\u001b[?25hdone\n",
            "  Created wheel for uuid: filename=uuid-1.30-cp36-none-any.whl size=6502 sha256=22d1c0634de82ecaef21f5be1d5cc55f1e182f223f22044899ba8b3e9fabf687\n",
            "  Stored in directory: /root/.cache/pip/wheels/2a/80/9b/015026567c29fdffe31d91edbe7ba1b17728db79194fca1f21\n",
            "Successfully built uuid\n",
            "Installing collected packages: uuid, jovian\n",
            "Successfully installed jovian-0.2.14 uuid-1.30\n"
          ],
          "name": "stdout"
        },
        {
          "output_type": "display_data",
          "data": {
            "application/vnd.colab-display-data+json": {
              "pip_warning": {
                "packages": [
                  "uuid"
                ]
              }
            }
          },
          "metadata": {
            "tags": []
          }
        }
      ]
    },
    {
      "cell_type": "code",
      "metadata": {
        "id": "-ZvY4mlSqame",
        "colab_type": "code",
        "outputId": "3cec7ebc-3897-4f1c-f603-96f32aeb3687",
        "colab": {
          "base_uri": "https://localhost:8080/",
          "height": 34
        }
      },
      "source": [
        "import jovian\n",
        "jovian.commit()"
      ],
      "execution_count": 0,
      "outputs": [
        {
          "output_type": "stream",
          "text": [
            "\u001b[31m[jovian] Error: Failed to detect Jupyter notebook or Python script. Skipping..\u001b[0m\n"
          ],
          "name": "stderr"
        }
      ]
    },
    {
      "cell_type": "code",
      "metadata": {
        "id": "ayUeNhuDqkgu",
        "colab_type": "code",
        "colab": {}
      },
      "source": [
        ""
      ],
      "execution_count": 0,
      "outputs": []
    }
  ]
}