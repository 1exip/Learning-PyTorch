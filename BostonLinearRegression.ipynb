{
  "nbformat": 4,
  "nbformat_minor": 0,
  "metadata": {
    "colab": {
      "name": "BostonLinearRegression.ipynb",
      "provenance": [],
      "collapsed_sections": [],
      "authorship_tag": "ABX9TyNxJDvWjmkPcmKblzx1A1Wn",
      "include_colab_link": true
    },
    "kernelspec": {
      "name": "python3",
      "display_name": "Python 3"
    }
  },
  "cells": [
    {
      "cell_type": "markdown",
      "metadata": {
        "id": "view-in-github",
        "colab_type": "text"
      },
      "source": [
        "<a href=\"https://colab.research.google.com/github/1exip/Learning-PyTorch/blob/master/BostonLinearRegression.ipynb\" target=\"_parent\"><img src=\"https://colab.research.google.com/assets/colab-badge.svg\" alt=\"Open In Colab\"/></a>"
      ]
    },
    {
      "cell_type": "code",
      "metadata": {
        "id": "0ptkVghLjwLb",
        "colab_type": "code",
        "colab": {}
      },
      "source": [
        "import torch\n",
        "import numpy as np\n",
        "import pandas as pd\n",
        "import matplotlib.pyplot as plt\n",
        "import requests\n",
        "import io\n",
        "from sklearn.model_selection import StratifiedShuffleSplit\n",
        "from sklearn.preprocessing import MinMaxScaler\n",
        "import torch.nn as nn\n",
        "from torch.utils.data import TensorDataset\n",
        "from torch.utils.data import DataLoader\n",
        "import torch.nn.functional as F"
      ],
      "execution_count": 0,
      "outputs": []
    },
    {
      "cell_type": "code",
      "metadata": {
        "id": "N7VReY2OkS9L",
        "colab_type": "code",
        "colab": {}
      },
      "source": [
        "# Get pandas dataframe from raw csv link\n",
        "URL = 'https://raw.githubusercontent.com/selva86/datasets/master/BostonHousing.csv'\n",
        "csv = requests.get(URL).content\n",
        "housing_df = pd.read_csv(io.StringIO(csv.decode('utf-8')))"
      ],
      "execution_count": 0,
      "outputs": []
    },
    {
      "cell_type": "code",
      "metadata": {
        "id": "FcjTHE4lkpGm",
        "colab_type": "code",
        "outputId": "17cc47a4-c634-4751-a69d-929d7f63cad8",
        "colab": {
          "base_uri": "https://localhost:8080/",
          "height": 204
        }
      },
      "source": [
        "#Get a look at the data\n",
        "housing_df.head()"
      ],
      "execution_count": 3,
      "outputs": [
        {
          "output_type": "execute_result",
          "data": {
            "text/html": [
              "<div>\n",
              "<style scoped>\n",
              "    .dataframe tbody tr th:only-of-type {\n",
              "        vertical-align: middle;\n",
              "    }\n",
              "\n",
              "    .dataframe tbody tr th {\n",
              "        vertical-align: top;\n",
              "    }\n",
              "\n",
              "    .dataframe thead th {\n",
              "        text-align: right;\n",
              "    }\n",
              "</style>\n",
              "<table border=\"1\" class=\"dataframe\">\n",
              "  <thead>\n",
              "    <tr style=\"text-align: right;\">\n",
              "      <th></th>\n",
              "      <th>crim</th>\n",
              "      <th>zn</th>\n",
              "      <th>indus</th>\n",
              "      <th>chas</th>\n",
              "      <th>nox</th>\n",
              "      <th>rm</th>\n",
              "      <th>age</th>\n",
              "      <th>dis</th>\n",
              "      <th>rad</th>\n",
              "      <th>tax</th>\n",
              "      <th>ptratio</th>\n",
              "      <th>b</th>\n",
              "      <th>lstat</th>\n",
              "      <th>medv</th>\n",
              "    </tr>\n",
              "  </thead>\n",
              "  <tbody>\n",
              "    <tr>\n",
              "      <th>0</th>\n",
              "      <td>0.00632</td>\n",
              "      <td>18.0</td>\n",
              "      <td>2.31</td>\n",
              "      <td>0</td>\n",
              "      <td>0.538</td>\n",
              "      <td>6.575</td>\n",
              "      <td>65.2</td>\n",
              "      <td>4.0900</td>\n",
              "      <td>1</td>\n",
              "      <td>296</td>\n",
              "      <td>15.3</td>\n",
              "      <td>396.90</td>\n",
              "      <td>4.98</td>\n",
              "      <td>24.0</td>\n",
              "    </tr>\n",
              "    <tr>\n",
              "      <th>1</th>\n",
              "      <td>0.02731</td>\n",
              "      <td>0.0</td>\n",
              "      <td>7.07</td>\n",
              "      <td>0</td>\n",
              "      <td>0.469</td>\n",
              "      <td>6.421</td>\n",
              "      <td>78.9</td>\n",
              "      <td>4.9671</td>\n",
              "      <td>2</td>\n",
              "      <td>242</td>\n",
              "      <td>17.8</td>\n",
              "      <td>396.90</td>\n",
              "      <td>9.14</td>\n",
              "      <td>21.6</td>\n",
              "    </tr>\n",
              "    <tr>\n",
              "      <th>2</th>\n",
              "      <td>0.02729</td>\n",
              "      <td>0.0</td>\n",
              "      <td>7.07</td>\n",
              "      <td>0</td>\n",
              "      <td>0.469</td>\n",
              "      <td>7.185</td>\n",
              "      <td>61.1</td>\n",
              "      <td>4.9671</td>\n",
              "      <td>2</td>\n",
              "      <td>242</td>\n",
              "      <td>17.8</td>\n",
              "      <td>392.83</td>\n",
              "      <td>4.03</td>\n",
              "      <td>34.7</td>\n",
              "    </tr>\n",
              "    <tr>\n",
              "      <th>3</th>\n",
              "      <td>0.03237</td>\n",
              "      <td>0.0</td>\n",
              "      <td>2.18</td>\n",
              "      <td>0</td>\n",
              "      <td>0.458</td>\n",
              "      <td>6.998</td>\n",
              "      <td>45.8</td>\n",
              "      <td>6.0622</td>\n",
              "      <td>3</td>\n",
              "      <td>222</td>\n",
              "      <td>18.7</td>\n",
              "      <td>394.63</td>\n",
              "      <td>2.94</td>\n",
              "      <td>33.4</td>\n",
              "    </tr>\n",
              "    <tr>\n",
              "      <th>4</th>\n",
              "      <td>0.06905</td>\n",
              "      <td>0.0</td>\n",
              "      <td>2.18</td>\n",
              "      <td>0</td>\n",
              "      <td>0.458</td>\n",
              "      <td>7.147</td>\n",
              "      <td>54.2</td>\n",
              "      <td>6.0622</td>\n",
              "      <td>3</td>\n",
              "      <td>222</td>\n",
              "      <td>18.7</td>\n",
              "      <td>396.90</td>\n",
              "      <td>5.33</td>\n",
              "      <td>36.2</td>\n",
              "    </tr>\n",
              "  </tbody>\n",
              "</table>\n",
              "</div>"
            ],
            "text/plain": [
              "      crim    zn  indus  chas    nox  ...  tax  ptratio       b  lstat  medv\n",
              "0  0.00632  18.0   2.31     0  0.538  ...  296     15.3  396.90   4.98  24.0\n",
              "1  0.02731   0.0   7.07     0  0.469  ...  242     17.8  396.90   9.14  21.6\n",
              "2  0.02729   0.0   7.07     0  0.469  ...  242     17.8  392.83   4.03  34.7\n",
              "3  0.03237   0.0   2.18     0  0.458  ...  222     18.7  394.63   2.94  33.4\n",
              "4  0.06905   0.0   2.18     0  0.458  ...  222     18.7  396.90   5.33  36.2\n",
              "\n",
              "[5 rows x 14 columns]"
            ]
          },
          "metadata": {
            "tags": []
          },
          "execution_count": 3
        }
      ]
    },
    {
      "cell_type": "code",
      "metadata": {
        "id": "xB_HmTuBlFG_",
        "colab_type": "code",
        "outputId": "8560e74a-1fff-4e40-eade-4b479e5730e8",
        "colab": {
          "base_uri": "https://localhost:8080/",
          "height": 374
        }
      },
      "source": [
        "#See if there are any null values\n",
        "housing_df.info()"
      ],
      "execution_count": 4,
      "outputs": [
        {
          "output_type": "stream",
          "text": [
            "<class 'pandas.core.frame.DataFrame'>\n",
            "RangeIndex: 506 entries, 0 to 505\n",
            "Data columns (total 14 columns):\n",
            " #   Column   Non-Null Count  Dtype  \n",
            "---  ------   --------------  -----  \n",
            " 0   crim     506 non-null    float64\n",
            " 1   zn       506 non-null    float64\n",
            " 2   indus    506 non-null    float64\n",
            " 3   chas     506 non-null    int64  \n",
            " 4   nox      506 non-null    float64\n",
            " 5   rm       506 non-null    float64\n",
            " 6   age      506 non-null    float64\n",
            " 7   dis      506 non-null    float64\n",
            " 8   rad      506 non-null    int64  \n",
            " 9   tax      506 non-null    int64  \n",
            " 10  ptratio  506 non-null    float64\n",
            " 11  b        506 non-null    float64\n",
            " 12  lstat    506 non-null    float64\n",
            " 13  medv     506 non-null    float64\n",
            "dtypes: float64(11), int64(3)\n",
            "memory usage: 55.5 KB\n"
          ],
          "name": "stdout"
        }
      ]
    },
    {
      "cell_type": "code",
      "metadata": {
        "id": "488i5hKOp-Cn",
        "colab_type": "code",
        "colab": {}
      },
      "source": [
        "#Convert int values into float\n",
        "housing_df['chas'] = housing_df['chas'].astype(float)\n",
        "housing_df['rad'] = housing_df['rad'].astype(float)\n",
        "housing_df['tax'] = housing_df['tax'].astype(float)"
      ],
      "execution_count": 0,
      "outputs": []
    },
    {
      "cell_type": "code",
      "metadata": {
        "id": "UyY6P6ZjqOru",
        "colab_type": "code",
        "outputId": "adb2c7ff-fe91-4a40-9643-e026d5dd5b1e",
        "colab": {
          "base_uri": "https://localhost:8080/",
          "height": 374
        }
      },
      "source": [
        "#See data info\n",
        "housing_df.info()"
      ],
      "execution_count": 6,
      "outputs": [
        {
          "output_type": "stream",
          "text": [
            "<class 'pandas.core.frame.DataFrame'>\n",
            "RangeIndex: 506 entries, 0 to 505\n",
            "Data columns (total 14 columns):\n",
            " #   Column   Non-Null Count  Dtype  \n",
            "---  ------   --------------  -----  \n",
            " 0   crim     506 non-null    float64\n",
            " 1   zn       506 non-null    float64\n",
            " 2   indus    506 non-null    float64\n",
            " 3   chas     506 non-null    float64\n",
            " 4   nox      506 non-null    float64\n",
            " 5   rm       506 non-null    float64\n",
            " 6   age      506 non-null    float64\n",
            " 7   dis      506 non-null    float64\n",
            " 8   rad      506 non-null    float64\n",
            " 9   tax      506 non-null    float64\n",
            " 10  ptratio  506 non-null    float64\n",
            " 11  b        506 non-null    float64\n",
            " 12  lstat    506 non-null    float64\n",
            " 13  medv     506 non-null    float64\n",
            "dtypes: float64(14)\n",
            "memory usage: 55.5 KB\n"
          ],
          "name": "stdout"
        }
      ]
    },
    {
      "cell_type": "code",
      "metadata": {
        "id": "kkHjH8nzlGVl",
        "colab_type": "code",
        "outputId": "7feb5053-b08f-4db6-f548-84dca1e73092",
        "colab": {
          "base_uri": "https://localhost:8080/",
          "height": 272
        }
      },
      "source": [
        "#Create a correlation matrix in order to find what attribute to use for stratified split\n",
        "correlation = housing_df.corr()\n",
        "correlation['medv'].sort_values(ascending=False)"
      ],
      "execution_count": 7,
      "outputs": [
        {
          "output_type": "execute_result",
          "data": {
            "text/plain": [
              "medv       1.000000\n",
              "rm         0.695360\n",
              "zn         0.360445\n",
              "b          0.333461\n",
              "dis        0.249929\n",
              "chas       0.175260\n",
              "age       -0.376955\n",
              "rad       -0.381626\n",
              "crim      -0.388305\n",
              "nox       -0.427321\n",
              "tax       -0.468536\n",
              "indus     -0.483725\n",
              "ptratio   -0.507787\n",
              "lstat     -0.737663\n",
              "Name: medv, dtype: float64"
            ]
          },
          "metadata": {
            "tags": []
          },
          "execution_count": 7
        }
      ]
    },
    {
      "cell_type": "code",
      "metadata": {
        "id": "7-DbtmYzlzC3",
        "colab_type": "code",
        "outputId": "8095e884-2d9d-4b38-80dc-04df51fbad63",
        "colab": {
          "base_uri": "https://localhost:8080/",
          "height": 51
        }
      },
      "source": [
        "#See max and min values for the most correlated value in order to create categories to stratify the dataset on\n",
        "print(np.max(housing_df['lstat']))\n",
        "print(np.min(housing_df['lstat']))"
      ],
      "execution_count": 8,
      "outputs": [
        {
          "output_type": "stream",
          "text": [
            "37.97\n",
            "1.73\n"
          ],
          "name": "stdout"
        }
      ]
    },
    {
      "cell_type": "code",
      "metadata": {
        "id": "wbTMSmhJnilJ",
        "colab_type": "code",
        "colab": {}
      },
      "source": [
        "#Create a category for stratification\n",
        "housing_df['lstat_cat'] = pd.cut(housing_df['lstat'],\n",
        "                           bins=[1.,5.,10.,15.,20.,25.,30.,35.,np.inf],\n",
        "                           labels=[1,2,3,4,5,6,7,8])"
      ],
      "execution_count": 0,
      "outputs": []
    },
    {
      "cell_type": "code",
      "metadata": {
        "id": "y28r46Rmlsaw",
        "colab_type": "code",
        "colab": {}
      },
      "source": [
        "#Initialize the stratified splitting function and split the dataset into stratified train and test data\n",
        "stratsplit = StratifiedShuffleSplit(n_splits=1, test_size=0.2, random_state=42)\n",
        "for train_index, test_index in stratsplit.split(housing_df, housing_df['lstat_cat']):\n",
        "  strat_train = housing_df.loc[train_index]\n",
        "  strat_test = housing_df.loc[test_index]"
      ],
      "execution_count": 0,
      "outputs": []
    },
    {
      "cell_type": "code",
      "metadata": {
        "id": "jM-xpLhppBoi",
        "colab_type": "code",
        "outputId": "42a25819-9941-42af-8c1c-f09f462a8e20",
        "colab": {
          "base_uri": "https://localhost:8080/",
          "height": 391
        }
      },
      "source": [
        "#Check how well the function performed by calculating the ratio of the lstat_cat attribute to the value counts in each set\n",
        "print('Stratified Test Set')\n",
        "print(strat_test['lstat_cat'].value_counts(ascending=False) / len(strat_test))\n",
        "print('\\n')\n",
        "print('Stratified Train Set')\n",
        "print(strat_train['lstat_cat'].value_counts(ascending=False) / len(strat_train))"
      ],
      "execution_count": 11,
      "outputs": [
        {
          "output_type": "stream",
          "text": [
            "Stratified Test Set\n",
            "2    0.313725\n",
            "3    0.245098\n",
            "4    0.176471\n",
            "1    0.127451\n",
            "5    0.078431\n",
            "6    0.039216\n",
            "7    0.019608\n",
            "8    0.000000\n",
            "Name: lstat_cat, dtype: float64\n",
            "\n",
            "\n",
            "Stratified Train Set\n",
            "2    0.309406\n",
            "3    0.247525\n",
            "4    0.173267\n",
            "1    0.121287\n",
            "5    0.079208\n",
            "6    0.044554\n",
            "7    0.019802\n",
            "8    0.004950\n",
            "Name: lstat_cat, dtype: float64\n"
          ],
          "name": "stdout"
        }
      ]
    },
    {
      "cell_type": "code",
      "metadata": {
        "id": "grnFtfRLpGIN",
        "colab_type": "code",
        "colab": {}
      },
      "source": [
        "#Remove the lstat_cat attribute from both sets as we don't need it anymore\n",
        "for set in (strat_train, strat_test):\n",
        "  set.drop('lstat_cat',axis=1,inplace=True)"
      ],
      "execution_count": 0,
      "outputs": []
    },
    {
      "cell_type": "code",
      "metadata": {
        "id": "__qdmLYwppAB",
        "colab_type": "code",
        "colab": {}
      },
      "source": [
        ""
      ],
      "execution_count": 0,
      "outputs": []
    },
    {
      "cell_type": "code",
      "metadata": {
        "id": "KdWEAWGyp0ot",
        "colab_type": "code",
        "colab": {}
      },
      "source": [
        "#Split the data into input and output values\n",
        "housing = strat_train.drop('medv',axis=1)\n",
        "housing_labels = strat_train['medv'].copy()\n",
        "housing_test = strat_test.drop('medv',axis=1)\n",
        "housing_test_labels = strat_test['medv'].copy()"
      ],
      "execution_count": 0,
      "outputs": []
    },
    {
      "cell_type": "code",
      "metadata": {
        "id": "NKhfxpMGu1cc",
        "colab_type": "code",
        "colab": {}
      },
      "source": [
        "#Initialize a min-max normalizing function for better predictions\n",
        "scaler = MinMaxScaler()\n",
        "housing = scaler.fit_transform(housing)\n",
        "housing_test = scaler.fit_transform(housing_test)"
      ],
      "execution_count": 0,
      "outputs": []
    },
    {
      "cell_type": "code",
      "metadata": {
        "id": "TowS8PhFvnXB",
        "colab_type": "code",
        "outputId": "67a956b5-814e-4ecf-cb5e-796d8a7f3062",
        "colab": {
          "base_uri": "https://localhost:8080/",
          "height": 238
        }
      },
      "source": [
        "housing"
      ],
      "execution_count": 15,
      "outputs": [
        {
          "output_type": "execute_result",
          "data": {
            "text/plain": [
              "array([[0.00195926, 0.        , 0.92122126, ..., 0.69148936, 0.93295174,\n",
              "        0.65342163],\n",
              "       [0.00377544, 0.        , 0.23256691, ..., 0.74468085, 0.9854506 ,\n",
              "        0.27621413],\n",
              "       [0.02725324, 0.        , 0.69242367, ..., 0.22340426, 0.93040496,\n",
              "        0.05435982],\n",
              "       ...,\n",
              "       [0.03227379, 0.        , 0.69242367, ..., 0.22340426, 0.43519593,\n",
              "        0.71937086],\n",
              "       [0.00118948, 0.13157895, 0.25103656, ..., 0.27659574, 0.98386202,\n",
              "        0.38576159],\n",
              "       [0.00293168, 0.21052632, 0.21673577, ..., 0.63829787, 0.98454284,\n",
              "        0.13383002]])"
            ]
          },
          "metadata": {
            "tags": []
          },
          "execution_count": 15
        }
      ]
    },
    {
      "cell_type": "code",
      "metadata": {
        "id": "m1AX_heNwBcz",
        "colab_type": "code",
        "colab": {}
      },
      "source": [
        "#Converting the dataframes into numpy arrays\n",
        "housing = np.array(housing, dtype='float32')\n",
        "housing_labels = np.array(housing_labels, dtype='float32')\n",
        "housing_test = np.array(housing_test, dtype='float32')\n",
        "housing_test_labels = np.array(housing_test_labels, dtype='float32')"
      ],
      "execution_count": 0,
      "outputs": []
    },
    {
      "cell_type": "code",
      "metadata": {
        "id": "KqOfw-W4zwOK",
        "colab_type": "code",
        "colab": {}
      },
      "source": [
        "#Converting the numpy arrays to PyTorch tensors\n",
        "housing = torch.from_numpy(housing)\n",
        "housing_labels = torch.from_numpy(housing_labels)\n",
        "housing_test = torch.from_numpy(housing_test)\n",
        "housing_test_labels = torch.from_numpy(housing_test_labels)"
      ],
      "execution_count": 0,
      "outputs": []
    },
    {
      "cell_type": "code",
      "metadata": {
        "id": "OoXlgNJd0LEx",
        "colab_type": "code",
        "colab": {}
      },
      "source": [
        "#Initialise the TensorDataset function\n",
        "train_ds = TensorDataset(housing, housing_labels)"
      ],
      "execution_count": 0,
      "outputs": []
    },
    {
      "cell_type": "code",
      "metadata": {
        "id": "6iZSJ3Z80tBZ",
        "colab_type": "code",
        "colab": {}
      },
      "source": [
        "#Get a training dataset with a batch size of 5\n",
        "train_dl = DataLoader(train_ds, batch_size=5)"
      ],
      "execution_count": 0,
      "outputs": []
    },
    {
      "cell_type": "code",
      "metadata": {
        "id": "Ht5VhNJ404Gf",
        "colab_type": "code",
        "colab": {}
      },
      "source": [
        ""
      ],
      "execution_count": 0,
      "outputs": []
    },
    {
      "cell_type": "code",
      "metadata": {
        "id": "O5wVcIZI09Uf",
        "colab_type": "code",
        "outputId": "e857762a-af05-403d-da51-959a6496d8ce",
        "colab": {
          "base_uri": "https://localhost:8080/",
          "height": 102
        }
      },
      "source": [
        "#Initialize the linear regression model\n",
        "model = nn.Linear(13,1)\n",
        "print(model.weight)\n",
        "print(model.bias)"
      ],
      "execution_count": 20,
      "outputs": [
        {
          "output_type": "stream",
          "text": [
            "Parameter containing:\n",
            "tensor([[-0.1368, -0.1292, -0.0351,  0.1844, -0.2166, -0.2030, -0.1623,  0.1111,\n",
            "         -0.0313,  0.2620,  0.0073,  0.1425, -0.0525]], requires_grad=True)\n",
            "Parameter containing:\n",
            "tensor([-0.0236], requires_grad=True)\n"
          ],
          "name": "stdout"
        }
      ]
    },
    {
      "cell_type": "code",
      "metadata": {
        "id": "QenXW2Bn1Nfl",
        "colab_type": "code",
        "outputId": "31129571-f992-4001-f4de-c60d27167c8b",
        "colab": {
          "base_uri": "https://localhost:8080/",
          "height": 102
        }
      },
      "source": [
        "#Check model parameters\n",
        "list(model.parameters())"
      ],
      "execution_count": 21,
      "outputs": [
        {
          "output_type": "execute_result",
          "data": {
            "text/plain": [
              "[Parameter containing:\n",
              " tensor([[-0.1368, -0.1292, -0.0351,  0.1844, -0.2166, -0.2030, -0.1623,  0.1111,\n",
              "          -0.0313,  0.2620,  0.0073,  0.1425, -0.0525]], requires_grad=True),\n",
              " Parameter containing:\n",
              " tensor([-0.0236], requires_grad=True)]"
            ]
          },
          "metadata": {
            "tags": []
          },
          "execution_count": 21
        }
      ]
    },
    {
      "cell_type": "code",
      "metadata": {
        "id": "Jcesp13o1W-s",
        "colab_type": "code",
        "colab": {}
      },
      "source": [
        "#Create prediction data by running it through the untrained model\n",
        "preds = model(housing)"
      ],
      "execution_count": 0,
      "outputs": []
    },
    {
      "cell_type": "code",
      "metadata": {
        "id": "0jEQiqvd1gBH",
        "colab_type": "code",
        "colab": {}
      },
      "source": [
        "#Initialize the loss function\n",
        "loss_fn = F.mse_loss"
      ],
      "execution_count": 0,
      "outputs": []
    },
    {
      "cell_type": "code",
      "metadata": {
        "id": "kFJWHJJKMW0O",
        "colab_type": "code",
        "colab": {
          "base_uri": "https://localhost:8080/",
          "height": 51
        },
        "outputId": "511b4403-65dc-4bed-a2af-46e9526c3f1b"
      },
      "source": [
        "#Get shape info to see if we have to reshape anything\n",
        "print(np.shape(preds))\n",
        "print(np.shape(housing_labels))"
      ],
      "execution_count": 24,
      "outputs": [
        {
          "output_type": "stream",
          "text": [
            "torch.Size([404, 1])\n",
            "torch.Size([404])\n"
          ],
          "name": "stdout"
        }
      ]
    },
    {
      "cell_type": "code",
      "metadata": {
        "id": "eEaK_f_YNQaR",
        "colab_type": "code",
        "colab": {}
      },
      "source": [
        "#Reshape the labels into (-1,1) format\n",
        "housing_labels = housing_labels.reshape(-1,1)"
      ],
      "execution_count": 0,
      "outputs": []
    },
    {
      "cell_type": "code",
      "metadata": {
        "id": "VHWfkIyZ2YJ8",
        "colab_type": "code",
        "colab": {}
      },
      "source": [
        "#Calculate the loss\n",
        "loss = loss_fn(model(housing),housing_labels)"
      ],
      "execution_count": 0,
      "outputs": []
    },
    {
      "cell_type": "code",
      "metadata": {
        "id": "l1LpmOge2j9u",
        "colab_type": "code",
        "colab": {}
      },
      "source": [
        "#Initialize the stochastic gradient descent function\n",
        "opt = torch.optim.SGD(model.parameters(),lr=0.001)"
      ],
      "execution_count": 0,
      "outputs": []
    },
    {
      "cell_type": "code",
      "metadata": {
        "id": "7YnIVraO2wXo",
        "colab_type": "code",
        "colab": {}
      },
      "source": [
        "#Function for fitting the data\n",
        "def fit(num_epochs, model, loss_fn, opt, train_dl):\n",
        "  #Set number of epochs\n",
        "  for epoch in range(num_epochs+1):\n",
        "    #Extract input and output from train_dl\n",
        "    for xb,yb in train_dl:\n",
        "      #Reshape the output to (-1,1) format\n",
        "      yb = yb.reshape(-1,1)\n",
        "      #Predict values \n",
        "      pred = model(xb)\n",
        "      #Calculate loss\n",
        "      loss = loss_fn(pred,yb)\n",
        "      #Calculate the derivative of the loss function\n",
        "      loss.backward()\n",
        "      #Adjust the parameters\n",
        "      opt.step()\n",
        "      #Set gradients to 0\n",
        "      opt.zero_grad()\n",
        "    #Print epch count and loss value every 10 epochs\n",
        "    if epoch%10 == 0:\n",
        "      print('Epoch:',epoch,\"Loss:\",loss)"
      ],
      "execution_count": 0,
      "outputs": []
    },
    {
      "cell_type": "code",
      "metadata": {
        "id": "NeM5fR5M3TO_",
        "colab_type": "code",
        "outputId": "dd93a006-766b-42df-f0af-697f00f75767",
        "colab": {
          "base_uri": "https://localhost:8080/",
          "height": 289
        }
      },
      "source": [
        "#Run the function with a 100 epochs on the train_dl dataset\n",
        "fit(150, model, loss_fn, opt, train_dl)"
      ],
      "execution_count": 29,
      "outputs": [
        {
          "output_type": "stream",
          "text": [
            "Epoch: 0 Loss: tensor(238.4255, grad_fn=<MseLossBackward>)\n",
            "Epoch: 10 Loss: tensor(32.6896, grad_fn=<MseLossBackward>)\n",
            "Epoch: 20 Loss: tensor(18.8089, grad_fn=<MseLossBackward>)\n",
            "Epoch: 30 Loss: tensor(13.5214, grad_fn=<MseLossBackward>)\n",
            "Epoch: 40 Loss: tensor(11.1624, grad_fn=<MseLossBackward>)\n",
            "Epoch: 50 Loss: tensor(9.8856, grad_fn=<MseLossBackward>)\n",
            "Epoch: 60 Loss: tensor(9.0559, grad_fn=<MseLossBackward>)\n",
            "Epoch: 70 Loss: tensor(8.4415, grad_fn=<MseLossBackward>)\n",
            "Epoch: 80 Loss: tensor(7.9503, grad_fn=<MseLossBackward>)\n",
            "Epoch: 90 Loss: tensor(7.5407, grad_fn=<MseLossBackward>)\n",
            "Epoch: 100 Loss: tensor(7.1909, grad_fn=<MseLossBackward>)\n",
            "Epoch: 110 Loss: tensor(6.8880, grad_fn=<MseLossBackward>)\n",
            "Epoch: 120 Loss: tensor(6.6231, grad_fn=<MseLossBackward>)\n",
            "Epoch: 130 Loss: tensor(6.3897, grad_fn=<MseLossBackward>)\n",
            "Epoch: 140 Loss: tensor(6.1827, grad_fn=<MseLossBackward>)\n",
            "Epoch: 150 Loss: tensor(5.9980, grad_fn=<MseLossBackward>)\n"
          ],
          "name": "stdout"
        }
      ]
    },
    {
      "cell_type": "code",
      "metadata": {
        "id": "mkfTAxP63V0N",
        "colab_type": "code",
        "outputId": "cd0ebe96-0d52-4d52-ab76-de976e5d018a",
        "colab": {
          "base_uri": "https://localhost:8080/",
          "height": 34
        }
      },
      "source": [
        "#Reshape data, make predictions on the test set and print out loss\n",
        "pred = model(housing_test)\n",
        "pred = pred.reshape(-1,1)\n",
        "housing_test_labels = housing_test_labels.reshape(-1,1)\n",
        "loss = loss_fn(pred,housing_test_labels)\n",
        "print(loss)"
      ],
      "execution_count": 30,
      "outputs": [
        {
          "output_type": "stream",
          "text": [
            "tensor(40.4573, grad_fn=<MseLossBackward>)\n"
          ],
          "name": "stdout"
        }
      ]
    },
    {
      "cell_type": "code",
      "metadata": {
        "id": "k5jTKxwB5tfk",
        "colab_type": "code",
        "colab": {}
      },
      "source": [
        ""
      ],
      "execution_count": 0,
      "outputs": []
    },
    {
      "cell_type": "code",
      "metadata": {
        "id": "F0cHtVulWjAY",
        "colab_type": "code",
        "colab": {}
      },
      "source": [
        ""
      ],
      "execution_count": 0,
      "outputs": []
    }
  ]
}