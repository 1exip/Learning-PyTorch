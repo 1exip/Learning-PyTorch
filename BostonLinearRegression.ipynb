{
  "nbformat": 4,
  "nbformat_minor": 0,
  "metadata": {
    "colab": {
      "name": "BostonLinearRegression.ipynb",
      "provenance": [],
      "collapsed_sections": [],
      "authorship_tag": "ABX9TyNnAwLw6fn7PyuV3FxdCH0o",
      "include_colab_link": true
    },
    "kernelspec": {
      "name": "python3",
      "display_name": "Python 3"
    }
  },
  "cells": [
    {
      "cell_type": "markdown",
      "metadata": {
        "id": "view-in-github",
        "colab_type": "text"
      },
      "source": [
        "<a href=\"https://colab.research.google.com/github/1exip/Learning-PyTorch/blob/master/BostonLinearRegression.ipynb\" target=\"_parent\"><img src=\"https://colab.research.google.com/assets/colab-badge.svg\" alt=\"Open In Colab\"/></a>"
      ]
    },
    {
      "cell_type": "code",
      "metadata": {
        "id": "0ptkVghLjwLb",
        "colab_type": "code",
        "colab": {}
      },
      "source": [
        "import torch\n",
        "import numpy as np\n",
        "import pandas as pd\n",
        "import matplotlib.pyplot as plt\n",
        "import requests\n",
        "import io\n",
        "from sklearn.model_selection import StratifiedShuffleSplit\n",
        "from sklearn.preprocessing import MinMaxScaler\n",
        "import torch.nn as nn\n",
        "from torch.utils.data import TensorDataset\n",
        "from torch.utils.data import DataLoader\n",
        "import torch.nn.functional as F"
      ],
      "execution_count": 0,
      "outputs": []
    },
    {
      "cell_type": "code",
      "metadata": {
        "id": "N7VReY2OkS9L",
        "colab_type": "code",
        "colab": {}
      },
      "source": [
        "# Get pandas dataframe from raw csv link\n",
        "URL = 'https://raw.githubusercontent.com/selva86/datasets/master/BostonHousing.csv'\n",
        "csv = requests.get(URL).content\n",
        "housing_df = pd.read_csv(io.StringIO(csv.decode('utf-8')))"
      ],
      "execution_count": 0,
      "outputs": []
    },
    {
      "cell_type": "code",
      "metadata": {
        "id": "FcjTHE4lkpGm",
        "colab_type": "code",
        "colab": {
          "base_uri": "https://localhost:8080/",
          "height": 204
        },
        "outputId": "ac140e56-8055-4acb-e932-618b77da7738"
      },
      "source": [
        "#Get a look at the data\n",
        "housing_df.head()"
      ],
      "execution_count": 3,
      "outputs": [
        {
          "output_type": "execute_result",
          "data": {
            "text/html": [
              "<div>\n",
              "<style scoped>\n",
              "    .dataframe tbody tr th:only-of-type {\n",
              "        vertical-align: middle;\n",
              "    }\n",
              "\n",
              "    .dataframe tbody tr th {\n",
              "        vertical-align: top;\n",
              "    }\n",
              "\n",
              "    .dataframe thead th {\n",
              "        text-align: right;\n",
              "    }\n",
              "</style>\n",
              "<table border=\"1\" class=\"dataframe\">\n",
              "  <thead>\n",
              "    <tr style=\"text-align: right;\">\n",
              "      <th></th>\n",
              "      <th>crim</th>\n",
              "      <th>zn</th>\n",
              "      <th>indus</th>\n",
              "      <th>chas</th>\n",
              "      <th>nox</th>\n",
              "      <th>rm</th>\n",
              "      <th>age</th>\n",
              "      <th>dis</th>\n",
              "      <th>rad</th>\n",
              "      <th>tax</th>\n",
              "      <th>ptratio</th>\n",
              "      <th>b</th>\n",
              "      <th>lstat</th>\n",
              "      <th>medv</th>\n",
              "    </tr>\n",
              "  </thead>\n",
              "  <tbody>\n",
              "    <tr>\n",
              "      <th>0</th>\n",
              "      <td>0.00632</td>\n",
              "      <td>18.0</td>\n",
              "      <td>2.31</td>\n",
              "      <td>0</td>\n",
              "      <td>0.538</td>\n",
              "      <td>6.575</td>\n",
              "      <td>65.2</td>\n",
              "      <td>4.0900</td>\n",
              "      <td>1</td>\n",
              "      <td>296</td>\n",
              "      <td>15.3</td>\n",
              "      <td>396.90</td>\n",
              "      <td>4.98</td>\n",
              "      <td>24.0</td>\n",
              "    </tr>\n",
              "    <tr>\n",
              "      <th>1</th>\n",
              "      <td>0.02731</td>\n",
              "      <td>0.0</td>\n",
              "      <td>7.07</td>\n",
              "      <td>0</td>\n",
              "      <td>0.469</td>\n",
              "      <td>6.421</td>\n",
              "      <td>78.9</td>\n",
              "      <td>4.9671</td>\n",
              "      <td>2</td>\n",
              "      <td>242</td>\n",
              "      <td>17.8</td>\n",
              "      <td>396.90</td>\n",
              "      <td>9.14</td>\n",
              "      <td>21.6</td>\n",
              "    </tr>\n",
              "    <tr>\n",
              "      <th>2</th>\n",
              "      <td>0.02729</td>\n",
              "      <td>0.0</td>\n",
              "      <td>7.07</td>\n",
              "      <td>0</td>\n",
              "      <td>0.469</td>\n",
              "      <td>7.185</td>\n",
              "      <td>61.1</td>\n",
              "      <td>4.9671</td>\n",
              "      <td>2</td>\n",
              "      <td>242</td>\n",
              "      <td>17.8</td>\n",
              "      <td>392.83</td>\n",
              "      <td>4.03</td>\n",
              "      <td>34.7</td>\n",
              "    </tr>\n",
              "    <tr>\n",
              "      <th>3</th>\n",
              "      <td>0.03237</td>\n",
              "      <td>0.0</td>\n",
              "      <td>2.18</td>\n",
              "      <td>0</td>\n",
              "      <td>0.458</td>\n",
              "      <td>6.998</td>\n",
              "      <td>45.8</td>\n",
              "      <td>6.0622</td>\n",
              "      <td>3</td>\n",
              "      <td>222</td>\n",
              "      <td>18.7</td>\n",
              "      <td>394.63</td>\n",
              "      <td>2.94</td>\n",
              "      <td>33.4</td>\n",
              "    </tr>\n",
              "    <tr>\n",
              "      <th>4</th>\n",
              "      <td>0.06905</td>\n",
              "      <td>0.0</td>\n",
              "      <td>2.18</td>\n",
              "      <td>0</td>\n",
              "      <td>0.458</td>\n",
              "      <td>7.147</td>\n",
              "      <td>54.2</td>\n",
              "      <td>6.0622</td>\n",
              "      <td>3</td>\n",
              "      <td>222</td>\n",
              "      <td>18.7</td>\n",
              "      <td>396.90</td>\n",
              "      <td>5.33</td>\n",
              "      <td>36.2</td>\n",
              "    </tr>\n",
              "  </tbody>\n",
              "</table>\n",
              "</div>"
            ],
            "text/plain": [
              "      crim    zn  indus  chas    nox  ...  tax  ptratio       b  lstat  medv\n",
              "0  0.00632  18.0   2.31     0  0.538  ...  296     15.3  396.90   4.98  24.0\n",
              "1  0.02731   0.0   7.07     0  0.469  ...  242     17.8  396.90   9.14  21.6\n",
              "2  0.02729   0.0   7.07     0  0.469  ...  242     17.8  392.83   4.03  34.7\n",
              "3  0.03237   0.0   2.18     0  0.458  ...  222     18.7  394.63   2.94  33.4\n",
              "4  0.06905   0.0   2.18     0  0.458  ...  222     18.7  396.90   5.33  36.2\n",
              "\n",
              "[5 rows x 14 columns]"
            ]
          },
          "metadata": {
            "tags": []
          },
          "execution_count": 3
        }
      ]
    },
    {
      "cell_type": "code",
      "metadata": {
        "id": "xB_HmTuBlFG_",
        "colab_type": "code",
        "colab": {
          "base_uri": "https://localhost:8080/",
          "height": 374
        },
        "outputId": "91af96bc-6345-487c-dc56-ed792ad7bd2d"
      },
      "source": [
        "#See if there are any null values\n",
        "housing_df.info()"
      ],
      "execution_count": 4,
      "outputs": [
        {
          "output_type": "stream",
          "text": [
            "<class 'pandas.core.frame.DataFrame'>\n",
            "RangeIndex: 506 entries, 0 to 505\n",
            "Data columns (total 14 columns):\n",
            " #   Column   Non-Null Count  Dtype  \n",
            "---  ------   --------------  -----  \n",
            " 0   crim     506 non-null    float64\n",
            " 1   zn       506 non-null    float64\n",
            " 2   indus    506 non-null    float64\n",
            " 3   chas     506 non-null    int64  \n",
            " 4   nox      506 non-null    float64\n",
            " 5   rm       506 non-null    float64\n",
            " 6   age      506 non-null    float64\n",
            " 7   dis      506 non-null    float64\n",
            " 8   rad      506 non-null    int64  \n",
            " 9   tax      506 non-null    int64  \n",
            " 10  ptratio  506 non-null    float64\n",
            " 11  b        506 non-null    float64\n",
            " 12  lstat    506 non-null    float64\n",
            " 13  medv     506 non-null    float64\n",
            "dtypes: float64(11), int64(3)\n",
            "memory usage: 55.5 KB\n"
          ],
          "name": "stdout"
        }
      ]
    },
    {
      "cell_type": "code",
      "metadata": {
        "id": "488i5hKOp-Cn",
        "colab_type": "code",
        "colab": {}
      },
      "source": [
        "housing_df['chas'] = housing_df['chas'].astype(float)\n",
        "housing_df['rad'] = housing_df['rad'].astype(float)\n",
        "housing_df['tax'] = housing_df['tax'].astype(float)"
      ],
      "execution_count": 0,
      "outputs": []
    },
    {
      "cell_type": "code",
      "metadata": {
        "id": "UyY6P6ZjqOru",
        "colab_type": "code",
        "colab": {
          "base_uri": "https://localhost:8080/",
          "height": 374
        },
        "outputId": "742b07fb-262f-486a-85b3-3a16bd633c53"
      },
      "source": [
        "housing_df.info()"
      ],
      "execution_count": 6,
      "outputs": [
        {
          "output_type": "stream",
          "text": [
            "<class 'pandas.core.frame.DataFrame'>\n",
            "RangeIndex: 506 entries, 0 to 505\n",
            "Data columns (total 14 columns):\n",
            " #   Column   Non-Null Count  Dtype  \n",
            "---  ------   --------------  -----  \n",
            " 0   crim     506 non-null    float64\n",
            " 1   zn       506 non-null    float64\n",
            " 2   indus    506 non-null    float64\n",
            " 3   chas     506 non-null    float64\n",
            " 4   nox      506 non-null    float64\n",
            " 5   rm       506 non-null    float64\n",
            " 6   age      506 non-null    float64\n",
            " 7   dis      506 non-null    float64\n",
            " 8   rad      506 non-null    float64\n",
            " 9   tax      506 non-null    float64\n",
            " 10  ptratio  506 non-null    float64\n",
            " 11  b        506 non-null    float64\n",
            " 12  lstat    506 non-null    float64\n",
            " 13  medv     506 non-null    float64\n",
            "dtypes: float64(14)\n",
            "memory usage: 55.5 KB\n"
          ],
          "name": "stdout"
        }
      ]
    },
    {
      "cell_type": "code",
      "metadata": {
        "id": "kkHjH8nzlGVl",
        "colab_type": "code",
        "colab": {
          "base_uri": "https://localhost:8080/",
          "height": 272
        },
        "outputId": "c2b2752a-e7c1-442c-c4f7-35396b9f9553"
      },
      "source": [
        "#Create a correlation matrix in order to find what attribute to use for stratified split\n",
        "correlation = housing_df.corr()\n",
        "correlation['medv'].sort_values(ascending=False)"
      ],
      "execution_count": 7,
      "outputs": [
        {
          "output_type": "execute_result",
          "data": {
            "text/plain": [
              "medv       1.000000\n",
              "rm         0.695360\n",
              "zn         0.360445\n",
              "b          0.333461\n",
              "dis        0.249929\n",
              "chas       0.175260\n",
              "age       -0.376955\n",
              "rad       -0.381626\n",
              "crim      -0.388305\n",
              "nox       -0.427321\n",
              "tax       -0.468536\n",
              "indus     -0.483725\n",
              "ptratio   -0.507787\n",
              "lstat     -0.737663\n",
              "Name: medv, dtype: float64"
            ]
          },
          "metadata": {
            "tags": []
          },
          "execution_count": 7
        }
      ]
    },
    {
      "cell_type": "code",
      "metadata": {
        "id": "7-DbtmYzlzC3",
        "colab_type": "code",
        "colab": {
          "base_uri": "https://localhost:8080/",
          "height": 51
        },
        "outputId": "4681d592-053d-4881-f87a-9a176be50ac2"
      },
      "source": [
        "print(np.max(housing_df['lstat']))\n",
        "print(np.min(housing_df['lstat']))"
      ],
      "execution_count": 8,
      "outputs": [
        {
          "output_type": "stream",
          "text": [
            "37.97\n",
            "1.73\n"
          ],
          "name": "stdout"
        }
      ]
    },
    {
      "cell_type": "code",
      "metadata": {
        "id": "wbTMSmhJnilJ",
        "colab_type": "code",
        "colab": {}
      },
      "source": [
        "housing_df['lstat_cat'] = pd.cut(housing_df['lstat'],\n",
        "                           bins=[1.,5.,10.,15.,20.,25.,30.,35.,np.inf],\n",
        "                           labels=[1,2,3,4,5,6,7,8])"
      ],
      "execution_count": 0,
      "outputs": []
    },
    {
      "cell_type": "code",
      "metadata": {
        "id": "y28r46Rmlsaw",
        "colab_type": "code",
        "colab": {}
      },
      "source": [
        "stratsplit = StratifiedShuffleSplit(n_splits=1, test_size=0.2, random_state=42)\n",
        "for train_index, test_index in stratsplit.split(housing_df, housing_df['lstat_cat']):\n",
        "  strat_train = housing_df.loc[train_index]\n",
        "  strat_test = housing_df.loc[test_index]"
      ],
      "execution_count": 0,
      "outputs": []
    },
    {
      "cell_type": "code",
      "metadata": {
        "id": "jM-xpLhppBoi",
        "colab_type": "code",
        "colab": {
          "base_uri": "https://localhost:8080/",
          "height": 391
        },
        "outputId": "38d91d58-a621-40ac-e9c0-9f476a509957"
      },
      "source": [
        "print('Stratified Test Set')\n",
        "print(strat_test['lstat_cat'].value_counts(ascending=False) / len(strat_test))\n",
        "print('\\n')\n",
        "print('Stratified Train Set')\n",
        "print(strat_train['lstat_cat'].value_counts(ascending=False) / len(strat_train))"
      ],
      "execution_count": 12,
      "outputs": [
        {
          "output_type": "stream",
          "text": [
            "Stratified Test Set\n",
            "2    0.313725\n",
            "3    0.245098\n",
            "4    0.176471\n",
            "1    0.127451\n",
            "5    0.078431\n",
            "6    0.039216\n",
            "7    0.019608\n",
            "8    0.000000\n",
            "Name: lstat_cat, dtype: float64\n",
            "\n",
            "\n",
            "Stratified Train Set\n",
            "2    0.309406\n",
            "3    0.247525\n",
            "4    0.173267\n",
            "1    0.121287\n",
            "5    0.079208\n",
            "6    0.044554\n",
            "7    0.019802\n",
            "8    0.004950\n",
            "Name: lstat_cat, dtype: float64\n"
          ],
          "name": "stdout"
        }
      ]
    },
    {
      "cell_type": "code",
      "metadata": {
        "id": "grnFtfRLpGIN",
        "colab_type": "code",
        "colab": {}
      },
      "source": [
        "for set in (strat_train, strat_test):\n",
        "  set.drop('lstat_cat',axis=1,inplace=True)"
      ],
      "execution_count": 0,
      "outputs": []
    },
    {
      "cell_type": "code",
      "metadata": {
        "id": "__qdmLYwppAB",
        "colab_type": "code",
        "colab": {
          "base_uri": "https://localhost:8080/",
          "height": 374
        },
        "outputId": "5ea7b456-5de1-4ff4-c5a9-2236f60b1186"
      },
      "source": [
        "strat_train.info()"
      ],
      "execution_count": 14,
      "outputs": [
        {
          "output_type": "stream",
          "text": [
            "<class 'pandas.core.frame.DataFrame'>\n",
            "Int64Index: 404 entries, 123 to 273\n",
            "Data columns (total 14 columns):\n",
            " #   Column   Non-Null Count  Dtype  \n",
            "---  ------   --------------  -----  \n",
            " 0   crim     404 non-null    float64\n",
            " 1   zn       404 non-null    float64\n",
            " 2   indus    404 non-null    float64\n",
            " 3   chas     404 non-null    float64\n",
            " 4   nox      404 non-null    float64\n",
            " 5   rm       404 non-null    float64\n",
            " 6   age      404 non-null    float64\n",
            " 7   dis      404 non-null    float64\n",
            " 8   rad      404 non-null    float64\n",
            " 9   tax      404 non-null    float64\n",
            " 10  ptratio  404 non-null    float64\n",
            " 11  b        404 non-null    float64\n",
            " 12  lstat    404 non-null    float64\n",
            " 13  medv     404 non-null    float64\n",
            "dtypes: float64(14)\n",
            "memory usage: 47.3 KB\n"
          ],
          "name": "stdout"
        }
      ]
    },
    {
      "cell_type": "code",
      "metadata": {
        "id": "KdWEAWGyp0ot",
        "colab_type": "code",
        "colab": {}
      },
      "source": [
        "housing = strat_train.drop('medv',axis=1)\n",
        "housing_labels = strat_train['medv'].copy()\n",
        "housing_test = strat_test.drop('medv',axis=1)\n",
        "housing_test_labels = strat_test['medv'].copy()"
      ],
      "execution_count": 0,
      "outputs": []
    },
    {
      "cell_type": "code",
      "metadata": {
        "id": "9VixjiMnvbC6",
        "colab_type": "code",
        "colab": {}
      },
      "source": [
        ""
      ],
      "execution_count": 0,
      "outputs": []
    },
    {
      "cell_type": "code",
      "metadata": {
        "id": "NKhfxpMGu1cc",
        "colab_type": "code",
        "colab": {}
      },
      "source": [
        "scaler = MinMaxScaler()\n",
        "housing[['crim','zn','indus','chas','nox','rm','age','dis','rad','tax','ptratio','b','lstat']] = scaler.fit_transform(housing[['crim','zn','indus','chas','nox','rm','age','dis','rad','tax','ptratio','b','lstat']])\n",
        "housing_test[['crim','zn','indus','chas','nox','rm','age','dis','rad','tax','ptratio','b','lstat']] = scaler.fit_transform(housing_test[['crim','zn','indus','chas','nox','rm','age','dis','rad','tax','ptratio','b','lstat']])"
      ],
      "execution_count": 0,
      "outputs": []
    },
    {
      "cell_type": "code",
      "metadata": {
        "id": "TowS8PhFvnXB",
        "colab_type": "code",
        "colab": {
          "base_uri": "https://localhost:8080/",
          "height": 419
        },
        "outputId": "471dabc9-a400-413b-be75-7567a5683aea"
      },
      "source": [
        "housing"
      ],
      "execution_count": 45,
      "outputs": [
        {
          "output_type": "execute_result",
          "data": {
            "text/html": [
              "<div>\n",
              "<style scoped>\n",
              "    .dataframe tbody tr th:only-of-type {\n",
              "        vertical-align: middle;\n",
              "    }\n",
              "\n",
              "    .dataframe tbody tr th {\n",
              "        vertical-align: top;\n",
              "    }\n",
              "\n",
              "    .dataframe thead th {\n",
              "        text-align: right;\n",
              "    }\n",
              "</style>\n",
              "<table border=\"1\" class=\"dataframe\">\n",
              "  <thead>\n",
              "    <tr style=\"text-align: right;\">\n",
              "      <th></th>\n",
              "      <th>crim</th>\n",
              "      <th>zn</th>\n",
              "      <th>indus</th>\n",
              "      <th>chas</th>\n",
              "      <th>nox</th>\n",
              "      <th>rm</th>\n",
              "      <th>age</th>\n",
              "      <th>dis</th>\n",
              "      <th>rad</th>\n",
              "      <th>tax</th>\n",
              "      <th>ptratio</th>\n",
              "      <th>b</th>\n",
              "      <th>lstat</th>\n",
              "    </tr>\n",
              "  </thead>\n",
              "  <tbody>\n",
              "    <tr>\n",
              "      <th>123</th>\n",
              "      <td>0.001959</td>\n",
              "      <td>0.000000</td>\n",
              "      <td>0.921221</td>\n",
              "      <td>0.0</td>\n",
              "      <td>0.403292</td>\n",
              "      <td>0.439739</td>\n",
              "      <td>0.969104</td>\n",
              "      <td>0.073470</td>\n",
              "      <td>0.043478</td>\n",
              "      <td>0.001908</td>\n",
              "      <td>0.691489</td>\n",
              "      <td>0.932952</td>\n",
              "      <td>0.653422</td>\n",
              "    </tr>\n",
              "    <tr>\n",
              "      <th>323</th>\n",
              "      <td>0.003775</td>\n",
              "      <td>0.000000</td>\n",
              "      <td>0.232567</td>\n",
              "      <td>0.0</td>\n",
              "      <td>0.222222</td>\n",
              "      <td>0.411381</td>\n",
              "      <td>0.735324</td>\n",
              "      <td>0.326139</td>\n",
              "      <td>0.173913</td>\n",
              "      <td>0.190840</td>\n",
              "      <td>0.744681</td>\n",
              "      <td>0.985451</td>\n",
              "      <td>0.276214</td>\n",
              "    </tr>\n",
              "    <tr>\n",
              "      <th>166</th>\n",
              "      <td>0.027253</td>\n",
              "      <td>0.000000</td>\n",
              "      <td>0.692424</td>\n",
              "      <td>0.0</td>\n",
              "      <td>0.452675</td>\n",
              "      <td>0.836942</td>\n",
              "      <td>0.960865</td>\n",
              "      <td>0.082706</td>\n",
              "      <td>0.173913</td>\n",
              "      <td>0.412214</td>\n",
              "      <td>0.223404</td>\n",
              "      <td>0.930405</td>\n",
              "      <td>0.054360</td>\n",
              "    </tr>\n",
              "    <tr>\n",
              "      <th>214</th>\n",
              "      <td>0.003852</td>\n",
              "      <td>0.000000</td>\n",
              "      <td>0.353562</td>\n",
              "      <td>0.0</td>\n",
              "      <td>0.213992</td>\n",
              "      <td>0.354666</td>\n",
              "      <td>0.071061</td>\n",
              "      <td>0.222986</td>\n",
              "      <td>0.130435</td>\n",
              "      <td>0.171756</td>\n",
              "      <td>0.638298</td>\n",
              "      <td>0.879041</td>\n",
              "      <td>0.767660</td>\n",
              "    </tr>\n",
              "    <tr>\n",
              "      <th>94</th>\n",
              "      <td>0.000498</td>\n",
              "      <td>0.294737</td>\n",
              "      <td>0.521297</td>\n",
              "      <td>0.0</td>\n",
              "      <td>0.162551</td>\n",
              "      <td>0.515041</td>\n",
              "      <td>0.766220</td>\n",
              "      <td>0.225488</td>\n",
              "      <td>0.130435</td>\n",
              "      <td>0.158397</td>\n",
              "      <td>0.595745</td>\n",
              "      <td>1.000000</td>\n",
              "      <td>0.244481</td>\n",
              "    </tr>\n",
              "    <tr>\n",
              "      <th>...</th>\n",
              "      <td>...</td>\n",
              "      <td>...</td>\n",
              "      <td>...</td>\n",
              "      <td>...</td>\n",
              "      <td>...</td>\n",
              "      <td>...</td>\n",
              "      <td>...</td>\n",
              "      <td>...</td>\n",
              "      <td>...</td>\n",
              "      <td>...</td>\n",
              "      <td>...</td>\n",
              "      <td>...</td>\n",
              "      <td>...</td>\n",
              "    </tr>\n",
              "    <tr>\n",
              "      <th>60</th>\n",
              "      <td>0.001945</td>\n",
              "      <td>0.263158</td>\n",
              "      <td>0.147757</td>\n",
              "      <td>0.0</td>\n",
              "      <td>0.139918</td>\n",
              "      <td>0.417705</td>\n",
              "      <td>0.651905</td>\n",
              "      <td>0.554020</td>\n",
              "      <td>0.304348</td>\n",
              "      <td>0.185115</td>\n",
              "      <td>0.755319</td>\n",
              "      <td>0.995486</td>\n",
              "      <td>0.315121</td>\n",
              "    </tr>\n",
              "    <tr>\n",
              "      <th>465</th>\n",
              "      <td>0.042940</td>\n",
              "      <td>0.000000</td>\n",
              "      <td>0.636638</td>\n",
              "      <td>0.0</td>\n",
              "      <td>0.555556</td>\n",
              "      <td>0.421153</td>\n",
              "      <td>0.466529</td>\n",
              "      <td>0.175577</td>\n",
              "      <td>1.000000</td>\n",
              "      <td>0.914122</td>\n",
              "      <td>0.808511</td>\n",
              "      <td>0.842403</td>\n",
              "      <td>0.342163</td>\n",
              "    </tr>\n",
              "    <tr>\n",
              "      <th>145</th>\n",
              "      <td>0.032274</td>\n",
              "      <td>0.000000</td>\n",
              "      <td>0.692424</td>\n",
              "      <td>0.0</td>\n",
              "      <td>1.000000</td>\n",
              "      <td>0.492240</td>\n",
              "      <td>1.000000</td>\n",
              "      <td>0.025670</td>\n",
              "      <td>0.173913</td>\n",
              "      <td>0.412214</td>\n",
              "      <td>0.223404</td>\n",
              "      <td>0.435196</td>\n",
              "      <td>0.719371</td>\n",
              "    </tr>\n",
              "    <tr>\n",
              "      <th>12</th>\n",
              "      <td>0.001189</td>\n",
              "      <td>0.131579</td>\n",
              "      <td>0.251037</td>\n",
              "      <td>0.0</td>\n",
              "      <td>0.286008</td>\n",
              "      <td>0.446062</td>\n",
              "      <td>0.371782</td>\n",
              "      <td>0.392547</td>\n",
              "      <td>0.173913</td>\n",
              "      <td>0.236641</td>\n",
              "      <td>0.276596</td>\n",
              "      <td>0.983862</td>\n",
              "      <td>0.385762</td>\n",
              "    </tr>\n",
              "    <tr>\n",
              "      <th>273</th>\n",
              "      <td>0.002932</td>\n",
              "      <td>0.210526</td>\n",
              "      <td>0.216736</td>\n",
              "      <td>1.0</td>\n",
              "      <td>0.162551</td>\n",
              "      <td>0.791339</td>\n",
              "      <td>0.503605</td>\n",
              "      <td>0.293871</td>\n",
              "      <td>0.086957</td>\n",
              "      <td>0.068702</td>\n",
              "      <td>0.638298</td>\n",
              "      <td>0.984543</td>\n",
              "      <td>0.133830</td>\n",
              "    </tr>\n",
              "  </tbody>\n",
              "</table>\n",
              "<p>404 rows × 13 columns</p>\n",
              "</div>"
            ],
            "text/plain": [
              "         crim        zn     indus  chas  ...       tax   ptratio         b     lstat\n",
              "123  0.001959  0.000000  0.921221   0.0  ...  0.001908  0.691489  0.932952  0.653422\n",
              "323  0.003775  0.000000  0.232567   0.0  ...  0.190840  0.744681  0.985451  0.276214\n",
              "166  0.027253  0.000000  0.692424   0.0  ...  0.412214  0.223404  0.930405  0.054360\n",
              "214  0.003852  0.000000  0.353562   0.0  ...  0.171756  0.638298  0.879041  0.767660\n",
              "94   0.000498  0.294737  0.521297   0.0  ...  0.158397  0.595745  1.000000  0.244481\n",
              "..        ...       ...       ...   ...  ...       ...       ...       ...       ...\n",
              "60   0.001945  0.263158  0.147757   0.0  ...  0.185115  0.755319  0.995486  0.315121\n",
              "465  0.042940  0.000000  0.636638   0.0  ...  0.914122  0.808511  0.842403  0.342163\n",
              "145  0.032274  0.000000  0.692424   0.0  ...  0.412214  0.223404  0.435196  0.719371\n",
              "12   0.001189  0.131579  0.251037   0.0  ...  0.236641  0.276596  0.983862  0.385762\n",
              "273  0.002932  0.210526  0.216736   1.0  ...  0.068702  0.638298  0.984543  0.133830\n",
              "\n",
              "[404 rows x 13 columns]"
            ]
          },
          "metadata": {
            "tags": []
          },
          "execution_count": 45
        }
      ]
    },
    {
      "cell_type": "code",
      "metadata": {
        "id": "m1AX_heNwBcz",
        "colab_type": "code",
        "colab": {}
      },
      "source": [
        "housing = np.array(housing, dtype='float32')\n",
        "housing_labels = np.array(housing_labels, dtype='float32')"
      ],
      "execution_count": 0,
      "outputs": []
    },
    {
      "cell_type": "code",
      "metadata": {
        "id": "KqOfw-W4zwOK",
        "colab_type": "code",
        "colab": {}
      },
      "source": [
        "housing = torch.from_numpy(housing)\n",
        "housing_labels = torch.from_numpy(housing_labels)"
      ],
      "execution_count": 0,
      "outputs": []
    },
    {
      "cell_type": "code",
      "metadata": {
        "id": "OoXlgNJd0LEx",
        "colab_type": "code",
        "colab": {}
      },
      "source": [
        "train_ds = TensorDataset(housing, housing_labels)"
      ],
      "execution_count": 0,
      "outputs": []
    },
    {
      "cell_type": "code",
      "metadata": {
        "id": "6iZSJ3Z80tBZ",
        "colab_type": "code",
        "colab": {}
      },
      "source": [
        "train_dl = DataLoader(train_ds, batch_size=5, shuffle=True)"
      ],
      "execution_count": 0,
      "outputs": []
    },
    {
      "cell_type": "code",
      "metadata": {
        "id": "Ht5VhNJ404Gf",
        "colab_type": "code",
        "colab": {
          "base_uri": "https://localhost:8080/",
          "height": 289
        },
        "outputId": "cc582b8a-2a78-4adb-d61e-30fa1a58174e"
      },
      "source": [
        "for xb, yb in train_dl:\n",
        "  print(xb)\n",
        "  print(yb)\n",
        "  break"
      ],
      "execution_count": 85,
      "outputs": [
        {
          "output_type": "stream",
          "text": [
            "tensor([[4.5358e-03, 2.3158e-01, 1.7527e-01, 0.0000e+00, 9.4650e-02, 4.8802e-01,\n",
            "         3.2956e-01, 6.2956e-01, 2.6087e-01, 2.7290e-01, 6.9149e-01, 9.8306e-01,\n",
            "         2.0502e-01],\n",
            "        [9.9908e-04, 4.2105e-01, 1.9600e-01, 0.0000e+00, 1.2757e-01, 5.5969e-01,\n",
            "         3.0072e-01, 2.7329e-01, 1.3043e-01, 1.2786e-01, 5.3191e-01, 1.0000e+00,\n",
            "         1.5066e-01],\n",
            "        [1.9816e-02, 0.0000e+00, 6.9242e-01, 0.0000e+00, 4.5267e-01, 7.5263e-01,\n",
            "         9.0525e-01, 7.5882e-02, 1.7391e-01, 4.1221e-01, 2.2340e-01, 9.4334e-01,\n",
            "         0.0000e+00],\n",
            "        [4.5530e-03, 0.0000e+00, 2.3257e-01, 0.0000e+00, 2.2222e-01, 5.4685e-01,\n",
            "         3.8311e-01, 3.2614e-01, 1.7391e-01, 1.9084e-01, 7.4468e-01, 1.0000e+00,\n",
            "         1.2114e-01],\n",
            "        [7.2174e-03, 0.0000e+00, 1.8809e-01, 0.0000e+00, 2.4486e-01, 4.6369e-01,\n",
            "         6.7147e-01, 2.3063e-01, 3.0435e-01, 2.2901e-01, 5.1064e-01, 9.5323e-01,\n",
            "         2.7373e-01]])\n",
            "tensor([24.3000, 29.1000, 50.0000, 25.0000, 24.3000])\n"
          ],
          "name": "stdout"
        }
      ]
    },
    {
      "cell_type": "code",
      "metadata": {
        "id": "O5wVcIZI09Uf",
        "colab_type": "code",
        "colab": {
          "base_uri": "https://localhost:8080/",
          "height": 102
        },
        "outputId": "1219dadb-b12a-4358-f56c-4b0a8b5e44ef"
      },
      "source": [
        "model = nn.Linear(13,1)\n",
        "print(model.weight)\n",
        "print(model.bias)"
      ],
      "execution_count": 86,
      "outputs": [
        {
          "output_type": "stream",
          "text": [
            "Parameter containing:\n",
            "tensor([[-0.2756, -0.2611,  0.0373,  0.2061,  0.0084,  0.1929,  0.1455, -0.1950,\n",
            "         -0.1927, -0.1262,  0.0174, -0.1820,  0.0172]], requires_grad=True)\n",
            "Parameter containing:\n",
            "tensor([-0.0702], requires_grad=True)\n"
          ],
          "name": "stdout"
        }
      ]
    },
    {
      "cell_type": "code",
      "metadata": {
        "id": "QenXW2Bn1Nfl",
        "colab_type": "code",
        "colab": {
          "base_uri": "https://localhost:8080/",
          "height": 102
        },
        "outputId": "0cefb8c5-922c-42f2-ee85-9e44a6984ebd"
      },
      "source": [
        "list(model.parameters())"
      ],
      "execution_count": 87,
      "outputs": [
        {
          "output_type": "execute_result",
          "data": {
            "text/plain": [
              "[Parameter containing:\n",
              " tensor([[-0.2756, -0.2611,  0.0373,  0.2061,  0.0084,  0.1929,  0.1455, -0.1950,\n",
              "          -0.1927, -0.1262,  0.0174, -0.1820,  0.0172]], requires_grad=True),\n",
              " Parameter containing:\n",
              " tensor([-0.0702], requires_grad=True)]"
            ]
          },
          "metadata": {
            "tags": []
          },
          "execution_count": 87
        }
      ]
    },
    {
      "cell_type": "code",
      "metadata": {
        "id": "Jcesp13o1W-s",
        "colab_type": "code",
        "colab": {
          "base_uri": "https://localhost:8080/",
          "height": 1000
        },
        "outputId": "60602fa4-66e0-48d0-a181-ea63df2d9568"
      },
      "source": [
        "preds = model(housing)\n",
        "preds"
      ],
      "execution_count": 88,
      "outputs": [
        {
          "output_type": "execute_result",
          "data": {
            "text/plain": [
              "tensor([[ 0.0235],\n",
              "        [-0.1572],\n",
              "        [-0.0130],\n",
              "        [-0.2035],\n",
              "        [-0.1721],\n",
              "        [ 0.0878],\n",
              "        [-0.2850],\n",
              "        [-0.4639],\n",
              "        [-0.3561],\n",
              "        [-0.0851],\n",
              "        [-0.2792],\n",
              "        [-0.1523],\n",
              "        [-0.2009],\n",
              "        [-0.3845],\n",
              "        [-0.3022],\n",
              "        [ 0.0277],\n",
              "        [-0.4386],\n",
              "        [-0.2749],\n",
              "        [-0.4941],\n",
              "        [-0.1330],\n",
              "        [-0.2422],\n",
              "        [-0.1622],\n",
              "        [-0.2596],\n",
              "        [-0.1284],\n",
              "        [-0.0942],\n",
              "        [-0.4111],\n",
              "        [-0.1829],\n",
              "        [-0.2075],\n",
              "        [-0.2033],\n",
              "        [-0.3388],\n",
              "        [-0.0637],\n",
              "        [-0.0192],\n",
              "        [-0.2188],\n",
              "        [-0.1375],\n",
              "        [-0.1119],\n",
              "        [-0.2051],\n",
              "        [-0.3252],\n",
              "        [-0.3093],\n",
              "        [ 0.0027],\n",
              "        [-0.5405],\n",
              "        [-0.3038],\n",
              "        [-0.0570],\n",
              "        [-0.1759],\n",
              "        [-0.2965],\n",
              "        [-0.1374],\n",
              "        [-0.2642],\n",
              "        [-0.3408],\n",
              "        [-0.3641],\n",
              "        [-0.3489],\n",
              "        [-0.0861],\n",
              "        [-0.2273],\n",
              "        [-0.3016],\n",
              "        [-0.1287],\n",
              "        [-0.1503],\n",
              "        [ 0.0026],\n",
              "        [-0.2082],\n",
              "        [-0.0559],\n",
              "        [-0.2919],\n",
              "        [ 0.0949],\n",
              "        [-0.2163],\n",
              "        [-0.3141],\n",
              "        [-0.3929],\n",
              "        [-0.0250],\n",
              "        [-0.3180],\n",
              "        [-0.1945],\n",
              "        [-0.3015],\n",
              "        [-0.1258],\n",
              "        [ 0.0677],\n",
              "        [-0.1889],\n",
              "        [-0.3345],\n",
              "        [-0.3198],\n",
              "        [-0.2980],\n",
              "        [-0.0740],\n",
              "        [-0.1129],\n",
              "        [-0.2379],\n",
              "        [-0.0613],\n",
              "        [-0.3711],\n",
              "        [-0.0840],\n",
              "        [-0.4059],\n",
              "        [-0.0946],\n",
              "        [-0.0453],\n",
              "        [-0.0538],\n",
              "        [-0.1213],\n",
              "        [-0.1658],\n",
              "        [-0.5659],\n",
              "        [-0.0642],\n",
              "        [-0.5217],\n",
              "        [ 0.0137],\n",
              "        [-0.1584],\n",
              "        [-0.1160],\n",
              "        [-0.4998],\n",
              "        [-0.2886],\n",
              "        [-0.4028],\n",
              "        [-0.2094],\n",
              "        [ 0.1046],\n",
              "        [-0.0525],\n",
              "        [-0.4415],\n",
              "        [-0.1591],\n",
              "        [-0.2336],\n",
              "        [-0.3532],\n",
              "        [-0.3217],\n",
              "        [-0.3220],\n",
              "        [ 0.0487],\n",
              "        [-0.1786],\n",
              "        [-0.1878],\n",
              "        [-0.4158],\n",
              "        [-0.1657],\n",
              "        [-0.3826],\n",
              "        [-0.1078],\n",
              "        [-0.0910],\n",
              "        [-0.1494],\n",
              "        [-0.2806],\n",
              "        [-0.3443],\n",
              "        [-0.2076],\n",
              "        [-0.1536],\n",
              "        [-0.3829],\n",
              "        [-0.1476],\n",
              "        [ 0.1122],\n",
              "        [-0.3289],\n",
              "        [-0.2945],\n",
              "        [-0.0948],\n",
              "        [-0.2930],\n",
              "        [-0.4317],\n",
              "        [-0.3196],\n",
              "        [-0.1638],\n",
              "        [-0.3357],\n",
              "        [-0.0952],\n",
              "        [-0.4105],\n",
              "        [-0.1036],\n",
              "        [-0.0967],\n",
              "        [-0.0763],\n",
              "        [-0.1380],\n",
              "        [-0.2352],\n",
              "        [-0.2521],\n",
              "        [-0.1120],\n",
              "        [-0.3031],\n",
              "        [-0.1177],\n",
              "        [-0.3381],\n",
              "        [-0.1728],\n",
              "        [-0.1419],\n",
              "        [-0.2003],\n",
              "        [-0.1579],\n",
              "        [-0.1791],\n",
              "        [-0.3187],\n",
              "        [-0.1356],\n",
              "        [-0.3095],\n",
              "        [-0.0602],\n",
              "        [-0.1488],\n",
              "        [-0.0711],\n",
              "        [-0.3494],\n",
              "        [-0.3281],\n",
              "        [-0.3598],\n",
              "        [-0.3272],\n",
              "        [-0.1417],\n",
              "        [-0.2032],\n",
              "        [-0.3792],\n",
              "        [-0.2281],\n",
              "        [-0.4125],\n",
              "        [ 0.0118],\n",
              "        [-0.1557],\n",
              "        [-0.2682],\n",
              "        [-0.3533],\n",
              "        [-0.2335],\n",
              "        [-0.2756],\n",
              "        [-0.4416],\n",
              "        [-0.4162],\n",
              "        [-0.0067],\n",
              "        [-0.3954],\n",
              "        [-0.0968],\n",
              "        [ 0.1046],\n",
              "        [-0.0775],\n",
              "        [-0.1111],\n",
              "        [-0.2920],\n",
              "        [-0.3337],\n",
              "        [-0.0841],\n",
              "        [-0.1137],\n",
              "        [-0.0987],\n",
              "        [-0.4048],\n",
              "        [-0.1648],\n",
              "        [-0.0806],\n",
              "        [-0.1147],\n",
              "        [-0.3585],\n",
              "        [ 0.0249],\n",
              "        [-0.1748],\n",
              "        [-0.0736],\n",
              "        [-0.2361],\n",
              "        [-0.0921],\n",
              "        [-0.0395],\n",
              "        [-0.0720],\n",
              "        [-0.4397],\n",
              "        [-0.1010],\n",
              "        [-0.1292],\n",
              "        [-0.3423],\n",
              "        [ 0.0604],\n",
              "        [-0.2359],\n",
              "        [-0.4184],\n",
              "        [-0.2065],\n",
              "        [-0.0358],\n",
              "        [-0.0507],\n",
              "        [-0.1207],\n",
              "        [-0.4192],\n",
              "        [-0.2424],\n",
              "        [-0.4047],\n",
              "        [-0.0362],\n",
              "        [-0.0960],\n",
              "        [ 0.0566],\n",
              "        [-0.5446],\n",
              "        [-0.2849],\n",
              "        [-0.3319],\n",
              "        [-0.3093],\n",
              "        [-0.1862],\n",
              "        [-0.1862],\n",
              "        [-0.0688],\n",
              "        [-0.1088],\n",
              "        [-0.1992],\n",
              "        [-0.2935],\n",
              "        [-0.2273],\n",
              "        [-0.1580],\n",
              "        [-0.1401],\n",
              "        [-0.0981],\n",
              "        [-0.1490],\n",
              "        [-0.3363],\n",
              "        [-0.1169],\n",
              "        [-0.4040],\n",
              "        [-0.3489],\n",
              "        [-0.1819],\n",
              "        [-0.1789],\n",
              "        [-0.2450],\n",
              "        [-0.1561],\n",
              "        [-0.4429],\n",
              "        [-0.3646],\n",
              "        [-0.0951],\n",
              "        [-0.0730],\n",
              "        [-0.4891],\n",
              "        [-0.0830],\n",
              "        [-0.0914],\n",
              "        [-0.1748],\n",
              "        [-0.3987],\n",
              "        [-0.1632],\n",
              "        [-0.1925],\n",
              "        [-0.1648],\n",
              "        [-0.1851],\n",
              "        [-0.0373],\n",
              "        [ 0.0191],\n",
              "        [-0.1294],\n",
              "        [-0.3340],\n",
              "        [-0.1054],\n",
              "        [-0.2491],\n",
              "        [-0.0380],\n",
              "        [-0.0844],\n",
              "        [-0.3201],\n",
              "        [-0.3052],\n",
              "        [-0.0336],\n",
              "        [-0.0761],\n",
              "        [-0.0449],\n",
              "        [-0.0893],\n",
              "        [-0.2198],\n",
              "        [-0.3619],\n",
              "        [ 0.1275],\n",
              "        [-0.1913],\n",
              "        [ 0.1820],\n",
              "        [-0.3375],\n",
              "        [-0.1829],\n",
              "        [-0.4963],\n",
              "        [-0.5577],\n",
              "        [-0.0880],\n",
              "        [-0.3234],\n",
              "        [-0.1832],\n",
              "        [ 0.1660],\n",
              "        [-0.1684],\n",
              "        [-0.2064],\n",
              "        [-0.3525],\n",
              "        [-0.2206],\n",
              "        [-0.2957],\n",
              "        [-0.3499],\n",
              "        [-0.2780],\n",
              "        [-0.0984],\n",
              "        [-0.1518],\n",
              "        [-0.3717],\n",
              "        [-0.4583],\n",
              "        [-0.1183],\n",
              "        [-0.1644],\n",
              "        [-0.4038],\n",
              "        [-0.0526],\n",
              "        [ 0.0702],\n",
              "        [-0.1577],\n",
              "        [-0.1368],\n",
              "        [-0.0849],\n",
              "        [-0.3106],\n",
              "        [-0.1911],\n",
              "        [-0.3917],\n",
              "        [-0.1880],\n",
              "        [-0.5373],\n",
              "        [-0.0837],\n",
              "        [ 0.1476],\n",
              "        [-0.2614],\n",
              "        [ 0.1305],\n",
              "        [-0.1177],\n",
              "        [-0.3348],\n",
              "        [-0.2921],\n",
              "        [ 0.1154],\n",
              "        [-0.2488],\n",
              "        [-0.2698],\n",
              "        [-0.1431],\n",
              "        [-0.0543],\n",
              "        [-0.2554],\n",
              "        [-0.0832],\n",
              "        [-0.1615],\n",
              "        [-0.2176],\n",
              "        [-0.1410],\n",
              "        [-0.1480],\n",
              "        [-0.3118],\n",
              "        [-0.1874],\n",
              "        [-0.0088],\n",
              "        [-0.3003],\n",
              "        [-0.3210],\n",
              "        [-0.0159],\n",
              "        [-0.2951],\n",
              "        [-0.4380],\n",
              "        [-0.2033],\n",
              "        [-0.5331],\n",
              "        [-0.0947],\n",
              "        [-0.1194],\n",
              "        [-0.0433],\n",
              "        [-0.3423],\n",
              "        [-0.2035],\n",
              "        [-0.3708],\n",
              "        [-0.1721],\n",
              "        [-0.1810],\n",
              "        [-0.1339],\n",
              "        [-0.2704],\n",
              "        [-0.1775],\n",
              "        [-0.0607],\n",
              "        [-0.3152],\n",
              "        [-0.3229],\n",
              "        [-0.3405],\n",
              "        [-0.1041],\n",
              "        [-0.0541],\n",
              "        [-0.1762],\n",
              "        [-0.0961],\n",
              "        [-0.3825],\n",
              "        [-0.1091],\n",
              "        [-0.1665],\n",
              "        [-0.0942],\n",
              "        [-0.2100],\n",
              "        [-0.4789],\n",
              "        [-0.0910],\n",
              "        [-0.1537],\n",
              "        [-0.3364],\n",
              "        [-0.0501],\n",
              "        [-0.2170],\n",
              "        [-0.1179],\n",
              "        [-0.0509],\n",
              "        [-0.2843],\n",
              "        [-0.4802],\n",
              "        [-0.1981],\n",
              "        [-0.0202],\n",
              "        [-0.2703],\n",
              "        [-0.2599],\n",
              "        [-0.0954],\n",
              "        [-0.2204],\n",
              "        [-0.1724],\n",
              "        [-0.1747],\n",
              "        [-0.3822],\n",
              "        [-0.3719],\n",
              "        [-0.1562],\n",
              "        [-0.2316],\n",
              "        [-0.1984],\n",
              "        [-0.0512],\n",
              "        [-0.0386],\n",
              "        [-0.4735],\n",
              "        [ 0.0646],\n",
              "        [-0.2340],\n",
              "        [-0.4799],\n",
              "        [-0.5165],\n",
              "        [-0.0855],\n",
              "        [-0.0874],\n",
              "        [-0.2455],\n",
              "        [-0.1141],\n",
              "        [-0.4003],\n",
              "        [-0.3211],\n",
              "        [-0.2592],\n",
              "        [-0.1923],\n",
              "        [-0.1357],\n",
              "        [-0.3653],\n",
              "        [-0.3872],\n",
              "        [-0.0033],\n",
              "        [-0.4172],\n",
              "        [-0.1068],\n",
              "        [-0.3232],\n",
              "        [-0.2622],\n",
              "        [-0.0457],\n",
              "        [-0.1987],\n",
              "        [-0.2496],\n",
              "        [-0.1065],\n",
              "        [-0.0332],\n",
              "        [-0.0909],\n",
              "        [-0.0546],\n",
              "        [-0.5427],\n",
              "        [-0.3100],\n",
              "        [-0.3802],\n",
              "        [ 0.0421],\n",
              "        [-0.2605],\n",
              "        [ 0.0670]], grad_fn=<AddmmBackward>)"
            ]
          },
          "metadata": {
            "tags": []
          },
          "execution_count": 88
        }
      ]
    },
    {
      "cell_type": "code",
      "metadata": {
        "id": "0jEQiqvd1gBH",
        "colab_type": "code",
        "colab": {}
      },
      "source": [
        "loss_fn = F.mse_loss"
      ],
      "execution_count": 0,
      "outputs": []
    },
    {
      "cell_type": "code",
      "metadata": {
        "id": "VHWfkIyZ2YJ8",
        "colab_type": "code",
        "colab": {
          "base_uri": "https://localhost:8080/",
          "height": 71
        },
        "outputId": "aacf6d73-3eaa-4c79-aa64-cc2a998b9193"
      },
      "source": [
        "loss = loss_fn(model(housing),housing_labels)"
      ],
      "execution_count": 90,
      "outputs": [
        {
          "output_type": "stream",
          "text": [
            "/usr/local/lib/python3.6/dist-packages/ipykernel_launcher.py:1: UserWarning: Using a target size (torch.Size([404])) that is different to the input size (torch.Size([404, 1])). This will likely lead to incorrect results due to broadcasting. Please ensure they have the same size.\n",
            "  \"\"\"Entry point for launching an IPython kernel.\n"
          ],
          "name": "stderr"
        }
      ]
    },
    {
      "cell_type": "code",
      "metadata": {
        "id": "l1LpmOge2j9u",
        "colab_type": "code",
        "colab": {}
      },
      "source": [
        "opt = torch.optim.SGD(model.parameters(),lr=0.0001)"
      ],
      "execution_count": 0,
      "outputs": []
    },
    {
      "cell_type": "code",
      "metadata": {
        "id": "7YnIVraO2wXo",
        "colab_type": "code",
        "colab": {}
      },
      "source": [
        "def fit(num_epochs, model, loss_fn, opt, train_dl):\n",
        "  for epoch in range(num_epochs):\n",
        "    for xb,yb in train_dl:\n",
        "      pred = model(xb)\n",
        "      loss = loss_fn(pred,yb)\n",
        "      loss.backward()\n",
        "      opt.step()\n",
        "      opt.zero_grad()\n",
        "    if epoch%10 == 0:\n",
        "      print('Epoch:',epoch,\"Loss:\",loss)"
      ],
      "execution_count": 0,
      "outputs": []
    },
    {
      "cell_type": "code",
      "metadata": {
        "id": "NeM5fR5M3TO_",
        "colab_type": "code",
        "colab": {
          "base_uri": "https://localhost:8080/",
          "height": 275
        },
        "outputId": "eb80b0d1-30c7-477b-cf74-e26f2f5c1525"
      },
      "source": [
        "fit(100, model, loss_fn, opt, train_dl)"
      ],
      "execution_count": 95,
      "outputs": [
        {
          "output_type": "stream",
          "text": [
            "/usr/local/lib/python3.6/dist-packages/ipykernel_launcher.py:5: UserWarning: Using a target size (torch.Size([5])) that is different to the input size (torch.Size([5, 1])). This will likely lead to incorrect results due to broadcasting. Please ensure they have the same size.\n",
            "  \"\"\"\n",
            "/usr/local/lib/python3.6/dist-packages/ipykernel_launcher.py:5: UserWarning: Using a target size (torch.Size([4])) that is different to the input size (torch.Size([4, 1])). This will likely lead to incorrect results due to broadcasting. Please ensure they have the same size.\n",
            "  \"\"\"\n"
          ],
          "name": "stderr"
        },
        {
          "output_type": "stream",
          "text": [
            "Epoch: 0 Loss: tensor(109.9302, grad_fn=<MseLossBackward>)\n",
            "Epoch: 10 Loss: tensor(5.4137, grad_fn=<MseLossBackward>)\n",
            "Epoch: 20 Loss: tensor(35.6738, grad_fn=<MseLossBackward>)\n",
            "Epoch: 30 Loss: tensor(60.8391, grad_fn=<MseLossBackward>)\n",
            "Epoch: 40 Loss: tensor(12.5574, grad_fn=<MseLossBackward>)\n",
            "Epoch: 50 Loss: tensor(30.8676, grad_fn=<MseLossBackward>)\n",
            "Epoch: 60 Loss: tensor(157.5648, grad_fn=<MseLossBackward>)\n",
            "Epoch: 70 Loss: tensor(63.2430, grad_fn=<MseLossBackward>)\n",
            "Epoch: 80 Loss: tensor(89.3865, grad_fn=<MseLossBackward>)\n",
            "Epoch: 90 Loss: tensor(9.9349, grad_fn=<MseLossBackward>)\n"
          ],
          "name": "stdout"
        }
      ]
    },
    {
      "cell_type": "code",
      "metadata": {
        "id": "mkfTAxP63V0N",
        "colab_type": "code",
        "colab": {}
      },
      "source": [
        ""
      ],
      "execution_count": 0,
      "outputs": []
    }
  ]
}