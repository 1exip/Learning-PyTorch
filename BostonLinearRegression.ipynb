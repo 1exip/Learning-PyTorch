{
  "nbformat": 4,
  "nbformat_minor": 0,
  "metadata": {
    "colab": {
      "name": "BostonLinearRegression.ipynb",
      "provenance": [],
      "collapsed_sections": [],
      "authorship_tag": "ABX9TyN5DsHNhie96hyfxuuuVnMs",
      "include_colab_link": true
    },
    "kernelspec": {
      "name": "python3",
      "display_name": "Python 3"
    }
  },
  "cells": [
    {
      "cell_type": "markdown",
      "metadata": {
        "id": "view-in-github",
        "colab_type": "text"
      },
      "source": [
        "<a href=\"https://colab.research.google.com/github/1exip/Learning-PyTorch/blob/master/BostonLinearRegression.ipynb\" target=\"_parent\"><img src=\"https://colab.research.google.com/assets/colab-badge.svg\" alt=\"Open In Colab\"/></a>"
      ]
    },
    {
      "cell_type": "code",
      "metadata": {
        "id": "0ptkVghLjwLb",
        "colab_type": "code",
        "colab": {}
      },
      "source": [
        "import torch\n",
        "import numpy as np\n",
        "import pandas as pd\n",
        "import matplotlib.pyplot as plt\n",
        "import requests\n",
        "import io\n",
        "from sklearn.model_selection import StratifiedShuffleSplit\n",
        "from sklearn.preprocessing import MinMaxScaler\n",
        "import torch.nn as nn\n",
        "from torch.utils.data import TensorDataset\n",
        "from torch.utils.data import DataLoader\n",
        "import torch.nn.functional as F"
      ],
      "execution_count": 0,
      "outputs": []
    },
    {
      "cell_type": "code",
      "metadata": {
        "id": "N7VReY2OkS9L",
        "colab_type": "code",
        "colab": {}
      },
      "source": [
        "# Get pandas dataframe from raw csv link\n",
        "URL = 'https://raw.githubusercontent.com/selva86/datasets/master/BostonHousing.csv'\n",
        "csv = requests.get(URL).content\n",
        "housing_df = pd.read_csv(io.StringIO(csv.decode('utf-8')))"
      ],
      "execution_count": 0,
      "outputs": []
    },
    {
      "cell_type": "code",
      "metadata": {
        "id": "FcjTHE4lkpGm",
        "colab_type": "code",
        "colab": {
          "base_uri": "https://localhost:8080/",
          "height": 204
        },
        "outputId": "ac140e56-8055-4acb-e932-618b77da7738"
      },
      "source": [
        "#Get a look at the data\n",
        "housing_df.head()"
      ],
      "execution_count": 3,
      "outputs": [
        {
          "output_type": "execute_result",
          "data": {
            "text/html": [
              "<div>\n",
              "<style scoped>\n",
              "    .dataframe tbody tr th:only-of-type {\n",
              "        vertical-align: middle;\n",
              "    }\n",
              "\n",
              "    .dataframe tbody tr th {\n",
              "        vertical-align: top;\n",
              "    }\n",
              "\n",
              "    .dataframe thead th {\n",
              "        text-align: right;\n",
              "    }\n",
              "</style>\n",
              "<table border=\"1\" class=\"dataframe\">\n",
              "  <thead>\n",
              "    <tr style=\"text-align: right;\">\n",
              "      <th></th>\n",
              "      <th>crim</th>\n",
              "      <th>zn</th>\n",
              "      <th>indus</th>\n",
              "      <th>chas</th>\n",
              "      <th>nox</th>\n",
              "      <th>rm</th>\n",
              "      <th>age</th>\n",
              "      <th>dis</th>\n",
              "      <th>rad</th>\n",
              "      <th>tax</th>\n",
              "      <th>ptratio</th>\n",
              "      <th>b</th>\n",
              "      <th>lstat</th>\n",
              "      <th>medv</th>\n",
              "    </tr>\n",
              "  </thead>\n",
              "  <tbody>\n",
              "    <tr>\n",
              "      <th>0</th>\n",
              "      <td>0.00632</td>\n",
              "      <td>18.0</td>\n",
              "      <td>2.31</td>\n",
              "      <td>0</td>\n",
              "      <td>0.538</td>\n",
              "      <td>6.575</td>\n",
              "      <td>65.2</td>\n",
              "      <td>4.0900</td>\n",
              "      <td>1</td>\n",
              "      <td>296</td>\n",
              "      <td>15.3</td>\n",
              "      <td>396.90</td>\n",
              "      <td>4.98</td>\n",
              "      <td>24.0</td>\n",
              "    </tr>\n",
              "    <tr>\n",
              "      <th>1</th>\n",
              "      <td>0.02731</td>\n",
              "      <td>0.0</td>\n",
              "      <td>7.07</td>\n",
              "      <td>0</td>\n",
              "      <td>0.469</td>\n",
              "      <td>6.421</td>\n",
              "      <td>78.9</td>\n",
              "      <td>4.9671</td>\n",
              "      <td>2</td>\n",
              "      <td>242</td>\n",
              "      <td>17.8</td>\n",
              "      <td>396.90</td>\n",
              "      <td>9.14</td>\n",
              "      <td>21.6</td>\n",
              "    </tr>\n",
              "    <tr>\n",
              "      <th>2</th>\n",
              "      <td>0.02729</td>\n",
              "      <td>0.0</td>\n",
              "      <td>7.07</td>\n",
              "      <td>0</td>\n",
              "      <td>0.469</td>\n",
              "      <td>7.185</td>\n",
              "      <td>61.1</td>\n",
              "      <td>4.9671</td>\n",
              "      <td>2</td>\n",
              "      <td>242</td>\n",
              "      <td>17.8</td>\n",
              "      <td>392.83</td>\n",
              "      <td>4.03</td>\n",
              "      <td>34.7</td>\n",
              "    </tr>\n",
              "    <tr>\n",
              "      <th>3</th>\n",
              "      <td>0.03237</td>\n",
              "      <td>0.0</td>\n",
              "      <td>2.18</td>\n",
              "      <td>0</td>\n",
              "      <td>0.458</td>\n",
              "      <td>6.998</td>\n",
              "      <td>45.8</td>\n",
              "      <td>6.0622</td>\n",
              "      <td>3</td>\n",
              "      <td>222</td>\n",
              "      <td>18.7</td>\n",
              "      <td>394.63</td>\n",
              "      <td>2.94</td>\n",
              "      <td>33.4</td>\n",
              "    </tr>\n",
              "    <tr>\n",
              "      <th>4</th>\n",
              "      <td>0.06905</td>\n",
              "      <td>0.0</td>\n",
              "      <td>2.18</td>\n",
              "      <td>0</td>\n",
              "      <td>0.458</td>\n",
              "      <td>7.147</td>\n",
              "      <td>54.2</td>\n",
              "      <td>6.0622</td>\n",
              "      <td>3</td>\n",
              "      <td>222</td>\n",
              "      <td>18.7</td>\n",
              "      <td>396.90</td>\n",
              "      <td>5.33</td>\n",
              "      <td>36.2</td>\n",
              "    </tr>\n",
              "  </tbody>\n",
              "</table>\n",
              "</div>"
            ],
            "text/plain": [
              "      crim    zn  indus  chas    nox  ...  tax  ptratio       b  lstat  medv\n",
              "0  0.00632  18.0   2.31     0  0.538  ...  296     15.3  396.90   4.98  24.0\n",
              "1  0.02731   0.0   7.07     0  0.469  ...  242     17.8  396.90   9.14  21.6\n",
              "2  0.02729   0.0   7.07     0  0.469  ...  242     17.8  392.83   4.03  34.7\n",
              "3  0.03237   0.0   2.18     0  0.458  ...  222     18.7  394.63   2.94  33.4\n",
              "4  0.06905   0.0   2.18     0  0.458  ...  222     18.7  396.90   5.33  36.2\n",
              "\n",
              "[5 rows x 14 columns]"
            ]
          },
          "metadata": {
            "tags": []
          },
          "execution_count": 3
        }
      ]
    },
    {
      "cell_type": "code",
      "metadata": {
        "id": "xB_HmTuBlFG_",
        "colab_type": "code",
        "colab": {
          "base_uri": "https://localhost:8080/",
          "height": 374
        },
        "outputId": "91af96bc-6345-487c-dc56-ed792ad7bd2d"
      },
      "source": [
        "#See if there are any null values\n",
        "housing_df.info()"
      ],
      "execution_count": 4,
      "outputs": [
        {
          "output_type": "stream",
          "text": [
            "<class 'pandas.core.frame.DataFrame'>\n",
            "RangeIndex: 506 entries, 0 to 505\n",
            "Data columns (total 14 columns):\n",
            " #   Column   Non-Null Count  Dtype  \n",
            "---  ------   --------------  -----  \n",
            " 0   crim     506 non-null    float64\n",
            " 1   zn       506 non-null    float64\n",
            " 2   indus    506 non-null    float64\n",
            " 3   chas     506 non-null    int64  \n",
            " 4   nox      506 non-null    float64\n",
            " 5   rm       506 non-null    float64\n",
            " 6   age      506 non-null    float64\n",
            " 7   dis      506 non-null    float64\n",
            " 8   rad      506 non-null    int64  \n",
            " 9   tax      506 non-null    int64  \n",
            " 10  ptratio  506 non-null    float64\n",
            " 11  b        506 non-null    float64\n",
            " 12  lstat    506 non-null    float64\n",
            " 13  medv     506 non-null    float64\n",
            "dtypes: float64(11), int64(3)\n",
            "memory usage: 55.5 KB\n"
          ],
          "name": "stdout"
        }
      ]
    },
    {
      "cell_type": "code",
      "metadata": {
        "id": "488i5hKOp-Cn",
        "colab_type": "code",
        "colab": {}
      },
      "source": [
        "housing_df['chas'] = housing_df['chas'].astype(float)\n",
        "housing_df['rad'] = housing_df['rad'].astype(float)\n",
        "housing_df['tax'] = housing_df['tax'].astype(float)"
      ],
      "execution_count": 0,
      "outputs": []
    },
    {
      "cell_type": "code",
      "metadata": {
        "id": "UyY6P6ZjqOru",
        "colab_type": "code",
        "colab": {
          "base_uri": "https://localhost:8080/",
          "height": 374
        },
        "outputId": "742b07fb-262f-486a-85b3-3a16bd633c53"
      },
      "source": [
        "housing_df.info()"
      ],
      "execution_count": 6,
      "outputs": [
        {
          "output_type": "stream",
          "text": [
            "<class 'pandas.core.frame.DataFrame'>\n",
            "RangeIndex: 506 entries, 0 to 505\n",
            "Data columns (total 14 columns):\n",
            " #   Column   Non-Null Count  Dtype  \n",
            "---  ------   --------------  -----  \n",
            " 0   crim     506 non-null    float64\n",
            " 1   zn       506 non-null    float64\n",
            " 2   indus    506 non-null    float64\n",
            " 3   chas     506 non-null    float64\n",
            " 4   nox      506 non-null    float64\n",
            " 5   rm       506 non-null    float64\n",
            " 6   age      506 non-null    float64\n",
            " 7   dis      506 non-null    float64\n",
            " 8   rad      506 non-null    float64\n",
            " 9   tax      506 non-null    float64\n",
            " 10  ptratio  506 non-null    float64\n",
            " 11  b        506 non-null    float64\n",
            " 12  lstat    506 non-null    float64\n",
            " 13  medv     506 non-null    float64\n",
            "dtypes: float64(14)\n",
            "memory usage: 55.5 KB\n"
          ],
          "name": "stdout"
        }
      ]
    },
    {
      "cell_type": "code",
      "metadata": {
        "id": "kkHjH8nzlGVl",
        "colab_type": "code",
        "colab": {
          "base_uri": "https://localhost:8080/",
          "height": 272
        },
        "outputId": "c2b2752a-e7c1-442c-c4f7-35396b9f9553"
      },
      "source": [
        "#Create a correlation matrix in order to find what attribute to use for stratified split\n",
        "correlation = housing_df.corr()\n",
        "correlation['medv'].sort_values(ascending=False)"
      ],
      "execution_count": 7,
      "outputs": [
        {
          "output_type": "execute_result",
          "data": {
            "text/plain": [
              "medv       1.000000\n",
              "rm         0.695360\n",
              "zn         0.360445\n",
              "b          0.333461\n",
              "dis        0.249929\n",
              "chas       0.175260\n",
              "age       -0.376955\n",
              "rad       -0.381626\n",
              "crim      -0.388305\n",
              "nox       -0.427321\n",
              "tax       -0.468536\n",
              "indus     -0.483725\n",
              "ptratio   -0.507787\n",
              "lstat     -0.737663\n",
              "Name: medv, dtype: float64"
            ]
          },
          "metadata": {
            "tags": []
          },
          "execution_count": 7
        }
      ]
    },
    {
      "cell_type": "code",
      "metadata": {
        "id": "7-DbtmYzlzC3",
        "colab_type": "code",
        "colab": {
          "base_uri": "https://localhost:8080/",
          "height": 51
        },
        "outputId": "4681d592-053d-4881-f87a-9a176be50ac2"
      },
      "source": [
        "print(np.max(housing_df['lstat']))\n",
        "print(np.min(housing_df['lstat']))"
      ],
      "execution_count": 8,
      "outputs": [
        {
          "output_type": "stream",
          "text": [
            "37.97\n",
            "1.73\n"
          ],
          "name": "stdout"
        }
      ]
    },
    {
      "cell_type": "code",
      "metadata": {
        "id": "wbTMSmhJnilJ",
        "colab_type": "code",
        "colab": {}
      },
      "source": [
        "housing_df['lstat_cat'] = pd.cut(housing_df['lstat'],\n",
        "                           bins=[1.,5.,10.,15.,20.,25.,30.,35.,np.inf],\n",
        "                           labels=[1,2,3,4,5,6,7,8])"
      ],
      "execution_count": 0,
      "outputs": []
    },
    {
      "cell_type": "code",
      "metadata": {
        "id": "y28r46Rmlsaw",
        "colab_type": "code",
        "colab": {}
      },
      "source": [
        "stratsplit = StratifiedShuffleSplit(n_splits=1, test_size=0.2, random_state=42)\n",
        "for train_index, test_index in stratsplit.split(housing_df, housing_df['lstat_cat']):\n",
        "  strat_train = housing_df.loc[train_index]\n",
        "  strat_test = housing_df.loc[test_index]"
      ],
      "execution_count": 0,
      "outputs": []
    },
    {
      "cell_type": "code",
      "metadata": {
        "id": "jM-xpLhppBoi",
        "colab_type": "code",
        "colab": {
          "base_uri": "https://localhost:8080/",
          "height": 391
        },
        "outputId": "38d91d58-a621-40ac-e9c0-9f476a509957"
      },
      "source": [
        "print('Stratified Test Set')\n",
        "print(strat_test['lstat_cat'].value_counts(ascending=False) / len(strat_test))\n",
        "print('\\n')\n",
        "print('Stratified Train Set')\n",
        "print(strat_train['lstat_cat'].value_counts(ascending=False) / len(strat_train))"
      ],
      "execution_count": 12,
      "outputs": [
        {
          "output_type": "stream",
          "text": [
            "Stratified Test Set\n",
            "2    0.313725\n",
            "3    0.245098\n",
            "4    0.176471\n",
            "1    0.127451\n",
            "5    0.078431\n",
            "6    0.039216\n",
            "7    0.019608\n",
            "8    0.000000\n",
            "Name: lstat_cat, dtype: float64\n",
            "\n",
            "\n",
            "Stratified Train Set\n",
            "2    0.309406\n",
            "3    0.247525\n",
            "4    0.173267\n",
            "1    0.121287\n",
            "5    0.079208\n",
            "6    0.044554\n",
            "7    0.019802\n",
            "8    0.004950\n",
            "Name: lstat_cat, dtype: float64\n"
          ],
          "name": "stdout"
        }
      ]
    },
    {
      "cell_type": "code",
      "metadata": {
        "id": "grnFtfRLpGIN",
        "colab_type": "code",
        "colab": {}
      },
      "source": [
        "for set in (strat_train, strat_test):\n",
        "  set.drop('lstat_cat',axis=1,inplace=True)"
      ],
      "execution_count": 0,
      "outputs": []
    },
    {
      "cell_type": "code",
      "metadata": {
        "id": "__qdmLYwppAB",
        "colab_type": "code",
        "colab": {
          "base_uri": "https://localhost:8080/",
          "height": 374
        },
        "outputId": "5ea7b456-5de1-4ff4-c5a9-2236f60b1186"
      },
      "source": [
        "strat_train.info()"
      ],
      "execution_count": 14,
      "outputs": [
        {
          "output_type": "stream",
          "text": [
            "<class 'pandas.core.frame.DataFrame'>\n",
            "Int64Index: 404 entries, 123 to 273\n",
            "Data columns (total 14 columns):\n",
            " #   Column   Non-Null Count  Dtype  \n",
            "---  ------   --------------  -----  \n",
            " 0   crim     404 non-null    float64\n",
            " 1   zn       404 non-null    float64\n",
            " 2   indus    404 non-null    float64\n",
            " 3   chas     404 non-null    float64\n",
            " 4   nox      404 non-null    float64\n",
            " 5   rm       404 non-null    float64\n",
            " 6   age      404 non-null    float64\n",
            " 7   dis      404 non-null    float64\n",
            " 8   rad      404 non-null    float64\n",
            " 9   tax      404 non-null    float64\n",
            " 10  ptratio  404 non-null    float64\n",
            " 11  b        404 non-null    float64\n",
            " 12  lstat    404 non-null    float64\n",
            " 13  medv     404 non-null    float64\n",
            "dtypes: float64(14)\n",
            "memory usage: 47.3 KB\n"
          ],
          "name": "stdout"
        }
      ]
    },
    {
      "cell_type": "code",
      "metadata": {
        "id": "KdWEAWGyp0ot",
        "colab_type": "code",
        "colab": {}
      },
      "source": [
        "housing = strat_train.drop('medv',axis=1)\n",
        "housing_labels = strat_train['medv'].copy()\n",
        "housing_test = strat_test.drop('medv',axis=1)\n",
        "housing_test_labels = strat_test['medv'].copy()"
      ],
      "execution_count": 0,
      "outputs": []
    },
    {
      "cell_type": "code",
      "metadata": {
        "id": "9VixjiMnvbC6",
        "colab_type": "code",
        "colab": {}
      },
      "source": [
        ""
      ],
      "execution_count": 0,
      "outputs": []
    },
    {
      "cell_type": "code",
      "metadata": {
        "id": "NKhfxpMGu1cc",
        "colab_type": "code",
        "colab": {}
      },
      "source": [
        "scaler = MinMaxScaler()\n",
        "housing[['crim','zn','indus','chas','nox','rm','age','dis','rad','tax','ptratio','b','lstat']] = scaler.fit_transform(housing[['crim','zn','indus','chas','nox','rm','age','dis','rad','tax','ptratio','b','lstat']])\n",
        "housing_test[['crim','zn','indus','chas','nox','rm','age','dis','rad','tax','ptratio','b','lstat']] = scaler.fit_transform(housing_test[['crim','zn','indus','chas','nox','rm','age','dis','rad','tax','ptratio','b','lstat']])"
      ],
      "execution_count": 0,
      "outputs": []
    },
    {
      "cell_type": "code",
      "metadata": {
        "id": "TowS8PhFvnXB",
        "colab_type": "code",
        "colab": {
          "base_uri": "https://localhost:8080/",
          "height": 419
        },
        "outputId": "471dabc9-a400-413b-be75-7567a5683aea"
      },
      "source": [
        "housing"
      ],
      "execution_count": 45,
      "outputs": [
        {
          "output_type": "execute_result",
          "data": {
            "text/html": [
              "<div>\n",
              "<style scoped>\n",
              "    .dataframe tbody tr th:only-of-type {\n",
              "        vertical-align: middle;\n",
              "    }\n",
              "\n",
              "    .dataframe tbody tr th {\n",
              "        vertical-align: top;\n",
              "    }\n",
              "\n",
              "    .dataframe thead th {\n",
              "        text-align: right;\n",
              "    }\n",
              "</style>\n",
              "<table border=\"1\" class=\"dataframe\">\n",
              "  <thead>\n",
              "    <tr style=\"text-align: right;\">\n",
              "      <th></th>\n",
              "      <th>crim</th>\n",
              "      <th>zn</th>\n",
              "      <th>indus</th>\n",
              "      <th>chas</th>\n",
              "      <th>nox</th>\n",
              "      <th>rm</th>\n",
              "      <th>age</th>\n",
              "      <th>dis</th>\n",
              "      <th>rad</th>\n",
              "      <th>tax</th>\n",
              "      <th>ptratio</th>\n",
              "      <th>b</th>\n",
              "      <th>lstat</th>\n",
              "    </tr>\n",
              "  </thead>\n",
              "  <tbody>\n",
              "    <tr>\n",
              "      <th>123</th>\n",
              "      <td>0.001959</td>\n",
              "      <td>0.000000</td>\n",
              "      <td>0.921221</td>\n",
              "      <td>0.0</td>\n",
              "      <td>0.403292</td>\n",
              "      <td>0.439739</td>\n",
              "      <td>0.969104</td>\n",
              "      <td>0.073470</td>\n",
              "      <td>0.043478</td>\n",
              "      <td>0.001908</td>\n",
              "      <td>0.691489</td>\n",
              "      <td>0.932952</td>\n",
              "      <td>0.653422</td>\n",
              "    </tr>\n",
              "    <tr>\n",
              "      <th>323</th>\n",
              "      <td>0.003775</td>\n",
              "      <td>0.000000</td>\n",
              "      <td>0.232567</td>\n",
              "      <td>0.0</td>\n",
              "      <td>0.222222</td>\n",
              "      <td>0.411381</td>\n",
              "      <td>0.735324</td>\n",
              "      <td>0.326139</td>\n",
              "      <td>0.173913</td>\n",
              "      <td>0.190840</td>\n",
              "      <td>0.744681</td>\n",
              "      <td>0.985451</td>\n",
              "      <td>0.276214</td>\n",
              "    </tr>\n",
              "    <tr>\n",
              "      <th>166</th>\n",
              "      <td>0.027253</td>\n",
              "      <td>0.000000</td>\n",
              "      <td>0.692424</td>\n",
              "      <td>0.0</td>\n",
              "      <td>0.452675</td>\n",
              "      <td>0.836942</td>\n",
              "      <td>0.960865</td>\n",
              "      <td>0.082706</td>\n",
              "      <td>0.173913</td>\n",
              "      <td>0.412214</td>\n",
              "      <td>0.223404</td>\n",
              "      <td>0.930405</td>\n",
              "      <td>0.054360</td>\n",
              "    </tr>\n",
              "    <tr>\n",
              "      <th>214</th>\n",
              "      <td>0.003852</td>\n",
              "      <td>0.000000</td>\n",
              "      <td>0.353562</td>\n",
              "      <td>0.0</td>\n",
              "      <td>0.213992</td>\n",
              "      <td>0.354666</td>\n",
              "      <td>0.071061</td>\n",
              "      <td>0.222986</td>\n",
              "      <td>0.130435</td>\n",
              "      <td>0.171756</td>\n",
              "      <td>0.638298</td>\n",
              "      <td>0.879041</td>\n",
              "      <td>0.767660</td>\n",
              "    </tr>\n",
              "    <tr>\n",
              "      <th>94</th>\n",
              "      <td>0.000498</td>\n",
              "      <td>0.294737</td>\n",
              "      <td>0.521297</td>\n",
              "      <td>0.0</td>\n",
              "      <td>0.162551</td>\n",
              "      <td>0.515041</td>\n",
              "      <td>0.766220</td>\n",
              "      <td>0.225488</td>\n",
              "      <td>0.130435</td>\n",
              "      <td>0.158397</td>\n",
              "      <td>0.595745</td>\n",
              "      <td>1.000000</td>\n",
              "      <td>0.244481</td>\n",
              "    </tr>\n",
              "    <tr>\n",
              "      <th>...</th>\n",
              "      <td>...</td>\n",
              "      <td>...</td>\n",
              "      <td>...</td>\n",
              "      <td>...</td>\n",
              "      <td>...</td>\n",
              "      <td>...</td>\n",
              "      <td>...</td>\n",
              "      <td>...</td>\n",
              "      <td>...</td>\n",
              "      <td>...</td>\n",
              "      <td>...</td>\n",
              "      <td>...</td>\n",
              "      <td>...</td>\n",
              "    </tr>\n",
              "    <tr>\n",
              "      <th>60</th>\n",
              "      <td>0.001945</td>\n",
              "      <td>0.263158</td>\n",
              "      <td>0.147757</td>\n",
              "      <td>0.0</td>\n",
              "      <td>0.139918</td>\n",
              "      <td>0.417705</td>\n",
              "      <td>0.651905</td>\n",
              "      <td>0.554020</td>\n",
              "      <td>0.304348</td>\n",
              "      <td>0.185115</td>\n",
              "      <td>0.755319</td>\n",
              "      <td>0.995486</td>\n",
              "      <td>0.315121</td>\n",
              "    </tr>\n",
              "    <tr>\n",
              "      <th>465</th>\n",
              "      <td>0.042940</td>\n",
              "      <td>0.000000</td>\n",
              "      <td>0.636638</td>\n",
              "      <td>0.0</td>\n",
              "      <td>0.555556</td>\n",
              "      <td>0.421153</td>\n",
              "      <td>0.466529</td>\n",
              "      <td>0.175577</td>\n",
              "      <td>1.000000</td>\n",
              "      <td>0.914122</td>\n",
              "      <td>0.808511</td>\n",
              "      <td>0.842403</td>\n",
              "      <td>0.342163</td>\n",
              "    </tr>\n",
              "    <tr>\n",
              "      <th>145</th>\n",
              "      <td>0.032274</td>\n",
              "      <td>0.000000</td>\n",
              "      <td>0.692424</td>\n",
              "      <td>0.0</td>\n",
              "      <td>1.000000</td>\n",
              "      <td>0.492240</td>\n",
              "      <td>1.000000</td>\n",
              "      <td>0.025670</td>\n",
              "      <td>0.173913</td>\n",
              "      <td>0.412214</td>\n",
              "      <td>0.223404</td>\n",
              "      <td>0.435196</td>\n",
              "      <td>0.719371</td>\n",
              "    </tr>\n",
              "    <tr>\n",
              "      <th>12</th>\n",
              "      <td>0.001189</td>\n",
              "      <td>0.131579</td>\n",
              "      <td>0.251037</td>\n",
              "      <td>0.0</td>\n",
              "      <td>0.286008</td>\n",
              "      <td>0.446062</td>\n",
              "      <td>0.371782</td>\n",
              "      <td>0.392547</td>\n",
              "      <td>0.173913</td>\n",
              "      <td>0.236641</td>\n",
              "      <td>0.276596</td>\n",
              "      <td>0.983862</td>\n",
              "      <td>0.385762</td>\n",
              "    </tr>\n",
              "    <tr>\n",
              "      <th>273</th>\n",
              "      <td>0.002932</td>\n",
              "      <td>0.210526</td>\n",
              "      <td>0.216736</td>\n",
              "      <td>1.0</td>\n",
              "      <td>0.162551</td>\n",
              "      <td>0.791339</td>\n",
              "      <td>0.503605</td>\n",
              "      <td>0.293871</td>\n",
              "      <td>0.086957</td>\n",
              "      <td>0.068702</td>\n",
              "      <td>0.638298</td>\n",
              "      <td>0.984543</td>\n",
              "      <td>0.133830</td>\n",
              "    </tr>\n",
              "  </tbody>\n",
              "</table>\n",
              "<p>404 rows × 13 columns</p>\n",
              "</div>"
            ],
            "text/plain": [
              "         crim        zn     indus  chas  ...       tax   ptratio         b     lstat\n",
              "123  0.001959  0.000000  0.921221   0.0  ...  0.001908  0.691489  0.932952  0.653422\n",
              "323  0.003775  0.000000  0.232567   0.0  ...  0.190840  0.744681  0.985451  0.276214\n",
              "166  0.027253  0.000000  0.692424   0.0  ...  0.412214  0.223404  0.930405  0.054360\n",
              "214  0.003852  0.000000  0.353562   0.0  ...  0.171756  0.638298  0.879041  0.767660\n",
              "94   0.000498  0.294737  0.521297   0.0  ...  0.158397  0.595745  1.000000  0.244481\n",
              "..        ...       ...       ...   ...  ...       ...       ...       ...       ...\n",
              "60   0.001945  0.263158  0.147757   0.0  ...  0.185115  0.755319  0.995486  0.315121\n",
              "465  0.042940  0.000000  0.636638   0.0  ...  0.914122  0.808511  0.842403  0.342163\n",
              "145  0.032274  0.000000  0.692424   0.0  ...  0.412214  0.223404  0.435196  0.719371\n",
              "12   0.001189  0.131579  0.251037   0.0  ...  0.236641  0.276596  0.983862  0.385762\n",
              "273  0.002932  0.210526  0.216736   1.0  ...  0.068702  0.638298  0.984543  0.133830\n",
              "\n",
              "[404 rows x 13 columns]"
            ]
          },
          "metadata": {
            "tags": []
          },
          "execution_count": 45
        }
      ]
    },
    {
      "cell_type": "code",
      "metadata": {
        "id": "m1AX_heNwBcz",
        "colab_type": "code",
        "colab": {}
      },
      "source": [
        "housing = np.array(housing, dtype='float32')\n",
        "housing_labels = np.array(housing_labels, dtype='float32')\n",
        "housing_test = np.array(housing_test, dtype='float32')\n",
        "housing_test_labels = np.array(housing_test_labels, dtype='float32')"
      ],
      "execution_count": 0,
      "outputs": []
    },
    {
      "cell_type": "code",
      "metadata": {
        "id": "KqOfw-W4zwOK",
        "colab_type": "code",
        "colab": {}
      },
      "source": [
        "housing = torch.from_numpy(housing)\n",
        "housing_labels = torch.from_numpy(housing_labels)\n",
        "housing_test = torch.from_numpy(housing_test)\n",
        "housing_test_labels = torch.from_numpy(housing_test_labels)"
      ],
      "execution_count": 0,
      "outputs": []
    },
    {
      "cell_type": "code",
      "metadata": {
        "id": "OoXlgNJd0LEx",
        "colab_type": "code",
        "colab": {}
      },
      "source": [
        "train_ds = TensorDataset(housing, housing_labels)"
      ],
      "execution_count": 0,
      "outputs": []
    },
    {
      "cell_type": "code",
      "metadata": {
        "id": "6iZSJ3Z80tBZ",
        "colab_type": "code",
        "colab": {}
      },
      "source": [
        "train_dl = DataLoader(train_ds, batch_size=5, shuffle=True)"
      ],
      "execution_count": 0,
      "outputs": []
    },
    {
      "cell_type": "code",
      "metadata": {
        "id": "Ht5VhNJ404Gf",
        "colab_type": "code",
        "colab": {
          "base_uri": "https://localhost:8080/",
          "height": 204
        },
        "outputId": "ac5d9d39-08b3-4194-d701-984b4c7358fb"
      },
      "source": [
        "for xb, yb in train_dl:\n",
        "  print(xb)\n",
        "  print(yb)\n",
        "  break"
      ],
      "execution_count": 127,
      "outputs": [
        {
          "output_type": "stream",
          "text": [
            "tensor([[0.0770, 0.0000, 0.6366, 0.0000, 0.7305, 0.5093, 1.0000, 0.0790, 1.0000,\n",
            "         0.9141, 0.8085, 0.9969, 0.4100],\n",
            "        [0.1960, 0.0000, 0.6366, 0.0000, 0.7305, 0.5557, 0.9310, 0.0788, 1.0000,\n",
            "         0.9141, 0.8085, 0.0685, 0.4503],\n",
            "        [0.0579, 0.0000, 0.6366, 0.0000, 0.7922, 0.4888, 0.8074, 0.1249, 1.0000,\n",
            "         0.9141, 0.8085, 0.9845, 0.3019],\n",
            "        [0.0012, 0.0000, 0.1790, 0.0000, 0.2346, 0.4369, 0.6025, 0.2039, 0.1739,\n",
            "         0.1756, 0.7021, 0.9512, 0.2671],\n",
            "        [0.0015, 0.0000, 0.4779, 1.0000, 0.3395, 0.5388, 0.9217, 0.2026, 0.1739,\n",
            "         0.1698, 0.4043, 0.9920, 0.2420]])\n",
            "tensor([18.4000,  9.6000, 22.6000, 20.0000, 23.0000])\n"
          ],
          "name": "stdout"
        }
      ]
    },
    {
      "cell_type": "code",
      "metadata": {
        "id": "O5wVcIZI09Uf",
        "colab_type": "code",
        "colab": {
          "base_uri": "https://localhost:8080/",
          "height": 102
        },
        "outputId": "d80e1f3f-307f-4dc0-bb1d-ac19bd1e13da"
      },
      "source": [
        "model = nn.Linear(13,1)\n",
        "print(model.weight)\n",
        "print(model.bias)"
      ],
      "execution_count": 128,
      "outputs": [
        {
          "output_type": "stream",
          "text": [
            "Parameter containing:\n",
            "tensor([[-0.1239, -0.0269, -0.1121,  0.1675, -0.0737, -0.1146,  0.0137,  0.2745,\n",
            "         -0.0878,  0.2690,  0.2219, -0.0378, -0.0076]], requires_grad=True)\n",
            "Parameter containing:\n",
            "tensor([0.2066], requires_grad=True)\n"
          ],
          "name": "stdout"
        }
      ]
    },
    {
      "cell_type": "code",
      "metadata": {
        "id": "QenXW2Bn1Nfl",
        "colab_type": "code",
        "colab": {
          "base_uri": "https://localhost:8080/",
          "height": 102
        },
        "outputId": "d4cc27ff-f95f-493a-a360-1b656d52733e"
      },
      "source": [
        "list(model.parameters())"
      ],
      "execution_count": 129,
      "outputs": [
        {
          "output_type": "execute_result",
          "data": {
            "text/plain": [
              "[Parameter containing:\n",
              " tensor([[-0.1239, -0.0269, -0.1121,  0.1675, -0.0737, -0.1146,  0.0137,  0.2745,\n",
              "          -0.0878,  0.2690,  0.2219, -0.0378, -0.0076]], requires_grad=True),\n",
              " Parameter containing:\n",
              " tensor([0.2066], requires_grad=True)]"
            ]
          },
          "metadata": {
            "tags": []
          },
          "execution_count": 129
        }
      ]
    },
    {
      "cell_type": "code",
      "metadata": {
        "id": "Jcesp13o1W-s",
        "colab_type": "code",
        "colab": {}
      },
      "source": [
        "preds = model(housing)"
      ],
      "execution_count": 0,
      "outputs": []
    },
    {
      "cell_type": "code",
      "metadata": {
        "id": "0jEQiqvd1gBH",
        "colab_type": "code",
        "colab": {}
      },
      "source": [
        "loss_fn = F.mse_loss"
      ],
      "execution_count": 0,
      "outputs": []
    },
    {
      "cell_type": "code",
      "metadata": {
        "id": "VHWfkIyZ2YJ8",
        "colab_type": "code",
        "colab": {
          "base_uri": "https://localhost:8080/",
          "height": 71
        },
        "outputId": "02ff1e7a-6b17-46d5-fdae-7053712535b2"
      },
      "source": [
        "loss = loss_fn(model(housing),housing_labels)"
      ],
      "execution_count": 132,
      "outputs": [
        {
          "output_type": "stream",
          "text": [
            "/usr/local/lib/python3.6/dist-packages/ipykernel_launcher.py:1: UserWarning: Using a target size (torch.Size([404])) that is different to the input size (torch.Size([404, 1])). This will likely lead to incorrect results due to broadcasting. Please ensure they have the same size.\n",
            "  \"\"\"Entry point for launching an IPython kernel.\n"
          ],
          "name": "stderr"
        }
      ]
    },
    {
      "cell_type": "code",
      "metadata": {
        "id": "l1LpmOge2j9u",
        "colab_type": "code",
        "colab": {}
      },
      "source": [
        "opt = torch.optim.SGD(model.parameters(),lr=0.0001)"
      ],
      "execution_count": 0,
      "outputs": []
    },
    {
      "cell_type": "code",
      "metadata": {
        "id": "7YnIVraO2wXo",
        "colab_type": "code",
        "colab": {}
      },
      "source": [
        "def fit(num_epochs, model, loss_fn, opt, train_dl):\n",
        "  for epoch in range(num_epochs):\n",
        "    for xb,yb in train_dl:\n",
        "      pred = model(xb)\n",
        "      loss = loss_fn(pred,yb)\n",
        "      loss.backward()\n",
        "      opt.step()\n",
        "      opt.zero_grad()\n",
        "    if epoch%10 == 0:\n",
        "      print('Epoch:',epoch,\"Loss:\",loss)"
      ],
      "execution_count": 0,
      "outputs": []
    },
    {
      "cell_type": "code",
      "metadata": {
        "id": "NeM5fR5M3TO_",
        "colab_type": "code",
        "colab": {
          "base_uri": "https://localhost:8080/",
          "height": 275
        },
        "outputId": "fce2c5d7-f17e-492e-f9a6-79e827f71d2f"
      },
      "source": [
        "fit(100, model, loss_fn, opt, train_dl)"
      ],
      "execution_count": 135,
      "outputs": [
        {
          "output_type": "stream",
          "text": [
            "/usr/local/lib/python3.6/dist-packages/ipykernel_launcher.py:5: UserWarning: Using a target size (torch.Size([5])) that is different to the input size (torch.Size([5, 1])). This will likely lead to incorrect results due to broadcasting. Please ensure they have the same size.\n",
            "  \"\"\"\n",
            "/usr/local/lib/python3.6/dist-packages/ipykernel_launcher.py:5: UserWarning: Using a target size (torch.Size([4])) that is different to the input size (torch.Size([4, 1])). This will likely lead to incorrect results due to broadcasting. Please ensure they have the same size.\n",
            "  \"\"\"\n"
          ],
          "name": "stderr"
        },
        {
          "output_type": "stream",
          "text": [
            "Epoch: 0 Loss: tensor(298.4095, grad_fn=<MseLossBackward>)\n",
            "Epoch: 10 Loss: tensor(630.3718, grad_fn=<MseLossBackward>)\n",
            "Epoch: 20 Loss: tensor(101.6160, grad_fn=<MseLossBackward>)\n",
            "Epoch: 30 Loss: tensor(95.1088, grad_fn=<MseLossBackward>)\n",
            "Epoch: 40 Loss: tensor(16.8186, grad_fn=<MseLossBackward>)\n",
            "Epoch: 50 Loss: tensor(15.4867, grad_fn=<MseLossBackward>)\n",
            "Epoch: 60 Loss: tensor(29.4010, grad_fn=<MseLossBackward>)\n",
            "Epoch: 70 Loss: tensor(5.2594, grad_fn=<MseLossBackward>)\n",
            "Epoch: 80 Loss: tensor(119.5765, grad_fn=<MseLossBackward>)\n",
            "Epoch: 90 Loss: tensor(50.1523, grad_fn=<MseLossBackward>)\n"
          ],
          "name": "stdout"
        }
      ]
    },
    {
      "cell_type": "code",
      "metadata": {
        "id": "mkfTAxP63V0N",
        "colab_type": "code",
        "colab": {
          "base_uri": "https://localhost:8080/",
          "height": 88
        },
        "outputId": "b64ee1f4-591e-44b7-be6b-73198a94b25e"
      },
      "source": [
        "pred = model(housing_test)\n",
        "loss = loss_fn(pred,housing_test_labels)\n",
        "print(loss)"
      ],
      "execution_count": 143,
      "outputs": [
        {
          "output_type": "stream",
          "text": [
            "tensor(103.5546, grad_fn=<MseLossBackward>)\n"
          ],
          "name": "stdout"
        },
        {
          "output_type": "stream",
          "text": [
            "/usr/local/lib/python3.6/dist-packages/ipykernel_launcher.py:2: UserWarning: Using a target size (torch.Size([102])) that is different to the input size (torch.Size([102, 1])). This will likely lead to incorrect results due to broadcasting. Please ensure they have the same size.\n",
            "  \n"
          ],
          "name": "stderr"
        }
      ]
    },
    {
      "cell_type": "code",
      "metadata": {
        "id": "k5jTKxwB5tfk",
        "colab_type": "code",
        "colab": {}
      },
      "source": [
        ""
      ],
      "execution_count": 0,
      "outputs": []
    }
  ]
}